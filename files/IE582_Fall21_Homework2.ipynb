{
  "nbformat": 4,
  "nbformat_minor": 0,
  "metadata": {
    "colab": {
      "name": "IE582_Fall21_Homework2.ipynb",
      "provenance": [],
      "collapsed_sections": []
    },
    "kernelspec": {
      "name": "python3",
      "display_name": "Python 3"
    },
    "language_info": {
      "name": "python"
    }
  },
  "cells": [
    {
      "cell_type": "markdown",
      "metadata": {
        "id": "gQ7urxMPy5CY"
      },
      "source": [
        "#IE582_Fall21_Homework2"
      ]
    },
    {
      "cell_type": "markdown",
      "metadata": {
        "id": "bV9cmCrly9ge"
      },
      "source": [
        "##Task 1 – Dimensionality reduction"
      ]
    },
    {
      "cell_type": "code",
      "metadata": {
        "id": "Q0yQ1rrezY1x"
      },
      "source": [
        "# import required libraries\n",
        "\n",
        "import pandas as pd\n",
        "import numpy as np\n",
        "import matplotlib.pyplot as plt\n",
        "import seaborn as sns"
      ],
      "execution_count": 2,
      "outputs": []
    },
    {
      "cell_type": "code",
      "metadata": {
        "colab": {
          "base_uri": "https://localhost:8080/",
          "height": 204
        },
        "id": "qYEBIbKpzH0L",
        "outputId": "447650ab-6e07-4408-9eba-f3fe991f4624"
      },
      "source": [
        "data=pd.read_csv('IE582_Fall21_HW2_q1_data.csv')\n",
        "data.head()"
      ],
      "execution_count": 15,
      "outputs": [
        {
          "output_type": "execute_result",
          "data": {
            "text/html": [
              "<div>\n",
              "<style scoped>\n",
              "    .dataframe tbody tr th:only-of-type {\n",
              "        vertical-align: middle;\n",
              "    }\n",
              "\n",
              "    .dataframe tbody tr th {\n",
              "        vertical-align: top;\n",
              "    }\n",
              "\n",
              "    .dataframe thead th {\n",
              "        text-align: right;\n",
              "    }\n",
              "</style>\n",
              "<table border=\"1\" class=\"dataframe\">\n",
              "  <thead>\n",
              "    <tr style=\"text-align: right;\">\n",
              "      <th></th>\n",
              "      <th>X1</th>\n",
              "      <th>X2</th>\n",
              "      <th>class</th>\n",
              "    </tr>\n",
              "  </thead>\n",
              "  <tbody>\n",
              "    <tr>\n",
              "      <th>0</th>\n",
              "      <td>0.569483</td>\n",
              "      <td>0.822003</td>\n",
              "      <td>a</td>\n",
              "    </tr>\n",
              "    <tr>\n",
              "      <th>1</th>\n",
              "      <td>0.411469</td>\n",
              "      <td>0.911424</td>\n",
              "      <td>a</td>\n",
              "    </tr>\n",
              "    <tr>\n",
              "      <th>2</th>\n",
              "      <td>0.417385</td>\n",
              "      <td>-0.908730</td>\n",
              "      <td>a</td>\n",
              "    </tr>\n",
              "    <tr>\n",
              "      <th>3</th>\n",
              "      <td>-0.791828</td>\n",
              "      <td>0.610745</td>\n",
              "      <td>a</td>\n",
              "    </tr>\n",
              "    <tr>\n",
              "      <th>4</th>\n",
              "      <td>-0.806777</td>\n",
              "      <td>-0.590857</td>\n",
              "      <td>a</td>\n",
              "    </tr>\n",
              "  </tbody>\n",
              "</table>\n",
              "</div>"
            ],
            "text/plain": [
              "         X1        X2 class\n",
              "0  0.569483  0.822003     a\n",
              "1  0.411469  0.911424     a\n",
              "2  0.417385 -0.908730     a\n",
              "3 -0.791828  0.610745     a\n",
              "4 -0.806777 -0.590857     a"
            ]
          },
          "metadata": {},
          "execution_count": 15
        }
      ]
    },
    {
      "cell_type": "code",
      "metadata": {
        "colab": {
          "base_uri": "https://localhost:8080/",
          "height": 279
        },
        "id": "Vqdyw-jb0ZBz",
        "outputId": "452c286f-d32c-47ee-b950-51ad12336202"
      },
      "source": [
        "#Use hot encoder to make independent variable numeric\n",
        "X = data.iloc[:, :-1].values\n",
        "y = data.iloc[:, -1].values\n",
        "from sklearn.preprocessing import LabelEncoder\n",
        "le = LabelEncoder()\n",
        "y = le.fit_transform(y)\n",
        "\n",
        "plt.scatter(X[y==0][:,0], X[y==0][:,1], lw=0, s=40, label='a')\n",
        "plt.scatter(X[y==1][:,0], X[y==1][:,1], lw=0, s=40, label='b')\n",
        "plt.legend()\n",
        "plt.xlabel(\"X1\")\n",
        "plt.ylabel(\"X2\")\n",
        "plt.show()"
      ],
      "execution_count": 16,
      "outputs": [
        {
          "output_type": "display_data",
          "data": {
            "image/png": "[encoded data removed]",
            "text/plain": [
              "<Figure size 432x288 with 1 Axes>"
            ]
          },
          "metadata": {
            "needs_background": "light"
          }
        }
      ]
    },
    {
      "cell_type": "markdown",
      "metadata": {
        "id": "qNUiD3DGBtpx"
      },
      "source": [
        "### a) Apply PCA to reduce the number of dimensions to one and visualize the instances on a scatter plot. "
      ]
    },
    {
      "cell_type": "code",
      "metadata": {
        "id": "9Jg59kaoCER0"
      },
      "source": [
        "from sklearn.decomposition import PCA\n",
        "pca = PCA(n_components = 1)\n",
        "X = pca.fit_transform(X)\n",
        "index =list(range(len(X)))"
      ],
      "execution_count": 17,
      "outputs": []
    },
    {
      "cell_type": "code",
      "metadata": {
        "colab": {
          "base_uri": "https://localhost:8080/",
          "height": 296
        },
        "id": "RvONG70TCnVp",
        "outputId": "4fa6deb4-3056-44fd-b291-fcf5a884ed11"
      },
      "source": [
        "for i in range(len(X)):\n",
        "    if y[i]==0:\n",
        "      plt.scatter(index[i],X[i],c='coral')\n",
        "    else:\n",
        "      plt.scatter(index[i],X[i],c='lightblue')\n",
        "plt.legend()\n",
        "plt.xlabel(\"X1\")\n",
        "plt.ylabel(\"Index\")\n",
        "plt.show()"
      ],
      "execution_count": 18,
      "outputs": [
        {
          "output_type": "stream",
          "name": "stderr",
          "text": [
            "No handles with labels found to put in legend.\n"
          ]
        },
        {
          "output_type": "display_data",
          "data": {
            "image/png": "[encoded data removed]",
            "text/plain": [
              "<Figure size 432x288 with 1 Axes>"
            ]
          },
          "metadata": {
            "needs_background": "light"
          }
        }
      ]
    },
    {
      "cell_type": "markdown",
      "metadata": {
        "id": "gfya8VP9I7tl"
      },
      "source": [
        "### b) Apply MDS to reduce the number of dimensions to one and visualize the instances on a scatter plot as in part (a)."
      ]
    },
    {
      "cell_type": "code",
      "metadata": {
        "id": "u45zIWiHI-Pi"
      },
      "source": [
        "# MDS with Manhattan Distance\n",
        "from sklearn.manifold import MDS\n",
        "from scipy.spatial import distance_matrix\n",
        "from sklearn.metrics.pairwise import manhattan_distances\n",
        "l1_dist_matrix = manhattan_distances(X)\n",
        "mds = MDS(n_components=1, dissimilarity=\"precomputed\")\n",
        "X = mds.fit_transform(l1_dist_matrix)"
      ],
      "execution_count": 24,
      "outputs": []
    },
    {
      "cell_type": "code",
      "metadata": {
        "colab": {
          "base_uri": "https://localhost:8080/",
          "height": 296
        },
        "id": "vAPFQVenL4vy",
        "outputId": "7a311b2e-3e57-4013-b512-0c7f344a7bae"
      },
      "source": [
        "for i in range(len(X)):\n",
        "    if y[i]==0:\n",
        "      plt.scatter(index[i],X[i],c='coral')\n",
        "    else:\n",
        "      plt.scatter(index[i],X[i],c='lightblue')\n",
        "plt.legend()\n",
        "plt.xlabel(\"X1\")\n",
        "plt.ylabel(\"Index\")\n",
        "plt.show()"
      ],
      "execution_count": 25,
      "outputs": [
        {
          "output_type": "stream",
          "name": "stderr",
          "text": [
            "No handles with labels found to put in legend.\n"
          ]
        },
        {
          "output_type": "display_data",
          "data": {
            "image/png": "[encoded data removed]",
            "text/plain": [
              "<Figure size 432x288 with 1 Axes>"
            ]
          },
          "metadata": {
            "needs_background": "light"
          }
        }
      ]
    },
    {
      "cell_type": "code",
      "metadata": {
        "id": "Gnr-D50OL7J0"
      },
      "source": [
        "#MDS with Euclidean Distance\n",
        "mds = MDS(n_components = 1, n_jobs=-1, dissimilarity=\"euclidean\")\n",
        "X = mds.fit_transform(X)"
      ],
      "execution_count": 26,
      "outputs": []
    },
    {
      "cell_type": "code",
      "metadata": {
        "colab": {
          "base_uri": "https://localhost:8080/",
          "height": 297
        },
        "id": "LDt4e9IRMTLV",
        "outputId": "0cecf3f1-7a95-4b01-b389-d9093f76ac2e"
      },
      "source": [
        "for i in range(len(X)):\n",
        "    if y[i]==0:\n",
        "      plt.scatter(index[i],X[i],c='coral')\n",
        "    else:\n",
        "      plt.scatter(index[i],X[i],c='lightblue')\n",
        "plt.legend()\n",
        "plt.xlabel(\"X1\")\n",
        "plt.ylabel(\"Index\")\n",
        "plt.show()"
      ],
      "execution_count": 27,
      "outputs": [
        {
          "output_type": "stream",
          "name": "stderr",
          "text": [
            "No handles with labels found to put in legend.\n"
          ]
        },
        {
          "output_type": "display_data",
          "data": {
            "image/png": "[encoded data removed]",
            "text/plain": [
              "<Figure size 432x288 with 1 Axes>"
            ]
          },
          "metadata": {
            "needs_background": "light"
          }
        }
      ]
    },
    {
      "cell_type": "markdown",
      "metadata": {
        "id": "3JX722vKOZ_h"
      },
      "source": [
        "### c) On a 2D scatter plot, one can observe how two observations from two classes are different."
      ]
    },
    {
      "cell_type": "markdown",
      "metadata": {
        "id": "hurqKR1dPDCm"
      },
      "source": [
        "A) We use PCA to find correlations in features. However, there is no linearity in the graphs. After applying PCA, we can see that it is projected with respect to the X2 axis because X2 has higher variance than X1."
      ]
    },
    {
      "cell_type": "markdown",
      "metadata": {
        "id": "48-EP8BPQVIq"
      },
      "source": [
        "B) When we use MDS, Although the results are close to each other, the differences between classes are more distinctive because MDS uses the distances between the data and L1 form made more accurate classification than L2 form. In the graph of the L1 form, the border between the classes is clearly visible."
      ]
    },
    {
      "cell_type": "markdown",
      "metadata": {
        "id": "T1OfMT2-UILB"
      },
      "source": [
        "C) Although all the results were close to each other, the L1 form made the most significant distinction, while PCA was worse than the others. MDS handles nonlinearity better. The use of distance information made this difference."
      ]
    },
    {
      "cell_type": "markdown",
      "metadata": {
        "id": "uQUrbDDNVGTV"
      },
      "source": [
        "### d) Suppose, you are not satisfied with your dimensionality reduction scheme in part (a)."
      ]
    },
    {
      "cell_type": "code",
      "metadata": {
        "id": "_Ecb3j1VVSHt"
      },
      "source": [
        "data[\"X1^2\"] = data.X1**2\n",
        "data[\"X2^2\"] = data.X2**2\n",
        "data[\"X1*X2\"] = data.X1 * data.X2\n",
        "data.drop([\"class\"],axis=1, inplace=True)"
      ],
      "execution_count": 28,
      "outputs": []
    },
    {
      "cell_type": "code",
      "metadata": {
        "colab": {
          "base_uri": "https://localhost:8080/"
        },
        "id": "IODRmKK8cGmi",
        "outputId": "b27f202e-f15f-4697-d87f-fea454d0786d"
      },
      "source": [
        "print(data)"
      ],
      "execution_count": 29,
      "outputs": [
        {
          "output_type": "stream",
          "name": "stdout",
          "text": [
            "           X1        X2      X1^2      X2^2     X1*X2\n",
            "0    0.569483  0.822003  0.324311  0.675689  0.468117\n",
            "1    0.411469  0.911424  0.169307  0.830693  0.375023\n",
            "2    0.417385 -0.908730  0.174210  0.825790 -0.379290\n",
            "3   -0.791828  0.610745  0.626991  0.373009 -0.483604\n",
            "4   -0.806777 -0.590857  0.650889  0.349111  0.476689\n",
            "..        ...       ...       ...       ...       ...\n",
            "193 -0.662932  1.886934  0.439479  3.560521 -1.250910\n",
            "194  0.316428  1.974810  0.100127  3.899873  0.624885\n",
            "195 -1.625464 -1.165275  2.642134  1.357866  1.894113\n",
            "196 -1.378755 -1.448804  1.900966  2.099034  1.997547\n",
            "197 -1.005258 -1.729005  1.010543  2.989457  1.738095\n",
            "\n",
            "[198 rows x 5 columns]\n"
          ]
        }
      ]
    },
    {
      "cell_type": "code",
      "metadata": {
        "id": "ZjU7BVU6X00i"
      },
      "source": [
        "pca2 = PCA(n_components =None)\n",
        "df2_pca = pd.DataFrame(pca2.fit_transform(data), columns=[\"pc1\", \"pc2\", \"pc3\", \"pc4\", \"pc5\"])"
      ],
      "execution_count": 30,
      "outputs": []
    },
    {
      "cell_type": "code",
      "metadata": {
        "colab": {
          "base_uri": "https://localhost:8080/"
        },
        "id": "a4rLTnGRWSW8",
        "outputId": "bc0b289b-e47c-4866-9af7-a5b51750f034"
      },
      "source": [
        "# Eigenvalues, they refer to the variance explained on the corresponding component.\n",
        "pca2.explained_variance_"
      ],
      "execution_count": null,
      "outputs": [
        {
          "output_type": "execute_result",
          "data": {
            "text/plain": [
              "array([2.49086525, 1.44256642, 1.28808119, 0.54559809, 0.30619998])"
            ]
          },
          "metadata": {},
          "execution_count": 194
        }
      ]
    },
    {
      "cell_type": "code",
      "metadata": {
        "colab": {
          "base_uri": "https://localhost:8080/"
        },
        "id": "PKfynpwkcrf1",
        "outputId": "43cc9358-c470-4b7c-f848-dad5a7f8fa9b"
      },
      "source": [
        "# These are the percentages of these variances explained.\n",
        "pca2.explained_variance_ratio_"
      ],
      "execution_count": null,
      "outputs": [
        {
          "output_type": "execute_result",
          "data": {
            "text/plain": [
              "array([0.410133  , 0.23752553, 0.21208879, 0.08983536, 0.05041731])"
            ]
          },
          "metadata": {},
          "execution_count": 196
        }
      ]
    },
    {
      "cell_type": "code",
      "metadata": {
        "colab": {
          "base_uri": "https://localhost:8080/"
        },
        "id": "vuHetGr7dFLZ",
        "outputId": "8730e393-37fd-486e-8aa4-9281910ec1c9"
      },
      "source": [
        "# Eigenvectors, vectors that indicate how much contribution is done to the components by each original feature.\n",
        "pca2.components_"
      ],
      "execution_count": null,
      "outputs": [
        {
          "output_type": "execute_result",
          "data": {
            "text/plain": [
              "array([[ 0.07766657,  0.71257596, -0.19184503,  0.66582496, -0.07794878],\n",
              "       [-0.42317217, -0.07426701,  0.15328013,  0.27219612,  0.84724507],\n",
              "       [ 0.21930469, -0.6092683 ,  0.27145989,  0.67993125, -0.21142519],\n",
              "       [-0.73210164,  0.13942364,  0.49110581,  0.0249689 , -0.45031087],\n",
              "       [ 0.4804434 ,  0.30995661,  0.79045892, -0.14020145,  0.16917239]])"
            ]
          },
          "metadata": {},
          "execution_count": 197
        }
      ]
    },
    {
      "cell_type": "markdown",
      "metadata": {
        "id": "gsEELINEdnXS"
      },
      "source": [
        "In the first component, the dominant features are the square of x2 and x2 and explains 41% of the data. Secondly, second component explains 24% of the data.\n"
      ]
    },
    {
      "cell_type": "markdown",
      "metadata": {
        "id": "waO-cc4reiF1"
      },
      "source": [
        "##Task 2 – Reconstructing Turkey Map"
      ]
    },
    {
      "cell_type": "markdown",
      "metadata": {
        "id": "rZo3seOUel4F"
      },
      "source": [
        ""
      ]
    },
    {
      "cell_type": "code",
      "metadata": {
        "colab": {
          "base_uri": "https://localhost:8080/",
          "height": 456
        },
        "id": "dZS-mSSge8XM",
        "outputId": "7405b886-9569-4659-cabc-80f42a482819"
      },
      "source": [
        "distances = pd.read_excel(\"ilmesafe.xls\", header=2, index_col=1)\n",
        "orginal_values = distances.iloc[:,:].fillna(0).reset_index(drop=True)\n",
        "distances = distances.iloc[:,1:].fillna(0).reset_index(drop=True)\n",
        "distances"
      ],
      "execution_count": 85,
      "outputs": [
        {
          "output_type": "execute_result",
          "data": {
            "text/html": [
              "<div>\n",
              "<style scoped>\n",
              "    .dataframe tbody tr th:only-of-type {\n",
              "        vertical-align: middle;\n",
              "    }\n",
              "\n",
              "    .dataframe tbody tr th {\n",
              "        vertical-align: top;\n",
              "    }\n",
              "\n",
              "    .dataframe thead th {\n",
              "        text-align: right;\n",
              "    }\n",
              "</style>\n",
              "<table border=\"1\" class=\"dataframe\">\n",
              "  <thead>\n",
              "    <tr style=\"text-align: right;\">\n",
              "      <th></th>\n",
              "      <th>ADANA</th>\n",
              "      <th>ADIYAMAN</th>\n",
              "      <th>AFYONKARAHİSAR</th>\n",
              "      <th>AĞRI</th>\n",
              "      <th>AMASYA</th>\n",
              "      <th>ANKARA</th>\n",
              "      <th>ANTALYA</th>\n",
              "      <th>ARTVİN</th>\n",
              "      <th>AYDIN</th>\n",
              "      <th>BALIKESİR</th>\n",
              "      <th>BİLECİK</th>\n",
              "      <th>BİNGÖL</th>\n",
              "      <th>BİTLİS</th>\n",
              "      <th>BOLU</th>\n",
              "      <th>BURDUR</th>\n",
              "      <th>BURSA</th>\n",
              "      <th>ÇANAKKALE</th>\n",
              "      <th>ÇANKIRI</th>\n",
              "      <th>ÇORUM</th>\n",
              "      <th>DENİZLİ</th>\n",
              "      <th>DİYARBAKIR</th>\n",
              "      <th>EDİRNE</th>\n",
              "      <th>ELAZIĞ</th>\n",
              "      <th>ERZİNCAN</th>\n",
              "      <th>ERZURUM</th>\n",
              "      <th>ESKİŞEHİR</th>\n",
              "      <th>GAZİANTEP</th>\n",
              "      <th>GİRESUN</th>\n",
              "      <th>GÜMÜŞHANE</th>\n",
              "      <th>HAKKARİ</th>\n",
              "      <th>HATAY</th>\n",
              "      <th>ISPARTA</th>\n",
              "      <th>MERSİN</th>\n",
              "      <th>İSTANBUL</th>\n",
              "      <th>İZMİR</th>\n",
              "      <th>KARS</th>\n",
              "      <th>KASTAMONU</th>\n",
              "      <th>KAYSERİ</th>\n",
              "      <th>KIRKLARELİ</th>\n",
              "      <th>KIRŞEHİR</th>\n",
              "      <th>...</th>\n",
              "      <th>KONYA</th>\n",
              "      <th>KÜTAHYA</th>\n",
              "      <th>MALATYA</th>\n",
              "      <th>MANİSA</th>\n",
              "      <th>KAHRAMANMARAŞ</th>\n",
              "      <th>MARDİN</th>\n",
              "      <th>MUĞLA</th>\n",
              "      <th>MUŞ</th>\n",
              "      <th>NEVŞEHİR</th>\n",
              "      <th>NİĞDE</th>\n",
              "      <th>ORDU</th>\n",
              "      <th>RİZE</th>\n",
              "      <th>SAKARYA (ADAPAZARI)</th>\n",
              "      <th>SAMSUN</th>\n",
              "      <th>SİİRT</th>\n",
              "      <th>SİNOP</th>\n",
              "      <th>SİVAS</th>\n",
              "      <th>TEKİRDAĞ</th>\n",
              "      <th>TOKAT</th>\n",
              "      <th>TRABZON</th>\n",
              "      <th>TUNCELİ</th>\n",
              "      <th>ŞANLIURFA</th>\n",
              "      <th>UŞAK</th>\n",
              "      <th>VAN</th>\n",
              "      <th>YOZGAT</th>\n",
              "      <th>ZONGULDAK</th>\n",
              "      <th>AKSARAY</th>\n",
              "      <th>BAYBURT</th>\n",
              "      <th>KARAMAN</th>\n",
              "      <th>KIRIKKALE</th>\n",
              "      <th>BATMAN</th>\n",
              "      <th>ŞIRNAK</th>\n",
              "      <th>BARTIN</th>\n",
              "      <th>ARDAHAN</th>\n",
              "      <th>IĞDIR</th>\n",
              "      <th>YALOVA</th>\n",
              "      <th>KARABÜK</th>\n",
              "      <th>KİLİS</th>\n",
              "      <th>OSMANİYE</th>\n",
              "      <th>DÜZCE</th>\n",
              "    </tr>\n",
              "  </thead>\n",
              "  <tbody>\n",
              "    <tr>\n",
              "      <th>0</th>\n",
              "      <td>0.0</td>\n",
              "      <td>335.0</td>\n",
              "      <td>575.0</td>\n",
              "      <td>966.0</td>\n",
              "      <td>603.0</td>\n",
              "      <td>567.0</td>\n",
              "      <td>535.0</td>\n",
              "      <td>1035.0</td>\n",
              "      <td>874.0</td>\n",
              "      <td>903.0</td>\n",
              "      <td>773.0</td>\n",
              "      <td>636.0</td>\n",
              "      <td>732.0</td>\n",
              "      <td>690.0</td>\n",
              "      <td>646.0</td>\n",
              "      <td>842.0</td>\n",
              "      <td>1094.0</td>\n",
              "      <td>577.0</td>\n",
              "      <td>581.0</td>\n",
              "      <td>755.0</td>\n",
              "      <td>525.0</td>\n",
              "      <td>1178.0</td>\n",
              "      <td>494.0</td>\n",
              "      <td>670.0</td>\n",
              "      <td>809.0</td>\n",
              "      <td>690.0</td>\n",
              "      <td>212.0</td>\n",
              "      <td>720.0</td>\n",
              "      <td>778.0</td>\n",
              "      <td>898.0</td>\n",
              "      <td>191.0</td>\n",
              "      <td>617.0</td>\n",
              "      <td>69.0</td>\n",
              "      <td>948.0</td>\n",
              "      <td>901.0</td>\n",
              "      <td>1014.0</td>\n",
              "      <td>683.0</td>\n",
              "      <td>335.0</td>\n",
              "      <td>1159.0</td>\n",
              "      <td>377.0</td>\n",
              "      <td>...</td>\n",
              "      <td>358.0</td>\n",
              "      <td>675.0</td>\n",
              "      <td>396.0</td>\n",
              "      <td>885.0</td>\n",
              "      <td>192.0</td>\n",
              "      <td>537.0</td>\n",
              "      <td>846.0</td>\n",
              "      <td>743.0</td>\n",
              "      <td>289.0</td>\n",
              "      <td>207.0</td>\n",
              "      <td>707.0</td>\n",
              "      <td>919.0</td>\n",
              "      <td>800.0</td>\n",
              "      <td>719.0</td>\n",
              "      <td>707.0</td>\n",
              "      <td>845.0</td>\n",
              "      <td>422.0</td>\n",
              "      <td>1079.0</td>\n",
              "      <td>491.0</td>\n",
              "      <td>844.0</td>\n",
              "      <td>628.0</td>\n",
              "      <td>349.0</td>\n",
              "      <td>690.0</td>\n",
              "      <td>893.0</td>\n",
              "      <td>489.0</td>\n",
              "      <td>765.0</td>\n",
              "      <td>267.0</td>\n",
              "      <td>800.0</td>\n",
              "      <td>292.0</td>\n",
              "      <td>477.0</td>\n",
              "      <td>621.0</td>\n",
              "      <td>709.0</td>\n",
              "      <td>782.0</td>\n",
              "      <td>1042.0</td>\n",
              "      <td>1066.0</td>\n",
              "      <td>899.0</td>\n",
              "      <td>714.0</td>\n",
              "      <td>246.0</td>\n",
              "      <td>87.0</td>\n",
              "      <td>735.0</td>\n",
              "    </tr>\n",
              "    <tr>\n",
              "      <th>1</th>\n",
              "      <td>335.0</td>\n",
              "      <td>0.0</td>\n",
              "      <td>910.0</td>\n",
              "      <td>648.0</td>\n",
              "      <td>632.0</td>\n",
              "      <td>814.0</td>\n",
              "      <td>870.0</td>\n",
              "      <td>751.0</td>\n",
              "      <td>1209.0</td>\n",
              "      <td>1238.0</td>\n",
              "      <td>1040.0</td>\n",
              "      <td>348.0</td>\n",
              "      <td>414.0</td>\n",
              "      <td>931.0</td>\n",
              "      <td>981.0</td>\n",
              "      <td>1109.0</td>\n",
              "      <td>1380.0</td>\n",
              "      <td>766.0</td>\n",
              "      <td>696.0</td>\n",
              "      <td>1090.0</td>\n",
              "      <td>207.0</td>\n",
              "      <td>1423.0</td>\n",
              "      <td>285.0</td>\n",
              "      <td>550.0</td>\n",
              "      <td>525.0</td>\n",
              "      <td>957.0</td>\n",
              "      <td>150.0</td>\n",
              "      <td>710.0</td>\n",
              "      <td>683.0</td>\n",
              "      <td>660.0</td>\n",
              "      <td>316.0</td>\n",
              "      <td>952.0</td>\n",
              "      <td>404.0</td>\n",
              "      <td>1193.0</td>\n",
              "      <td>1236.0</td>\n",
              "      <td>730.0</td>\n",
              "      <td>872.0</td>\n",
              "      <td>419.0</td>\n",
              "      <td>1404.0</td>\n",
              "      <td>553.0</td>\n",
              "      <td>...</td>\n",
              "      <td>693.0</td>\n",
              "      <td>1010.0</td>\n",
              "      <td>187.0</td>\n",
              "      <td>1220.0</td>\n",
              "      <td>163.0</td>\n",
              "      <td>299.0</td>\n",
              "      <td>1181.0</td>\n",
              "      <td>459.0</td>\n",
              "      <td>500.0</td>\n",
              "      <td>542.0</td>\n",
              "      <td>724.0</td>\n",
              "      <td>784.0</td>\n",
              "      <td>1045.0</td>\n",
              "      <td>748.0</td>\n",
              "      <td>389.0</td>\n",
              "      <td>888.0</td>\n",
              "      <td>412.0</td>\n",
              "      <td>1324.0</td>\n",
              "      <td>520.0</td>\n",
              "      <td>783.0</td>\n",
              "      <td>419.0</td>\n",
              "      <td>112.0</td>\n",
              "      <td>1025.0</td>\n",
              "      <td>575.0</td>\n",
              "      <td>616.0</td>\n",
              "      <td>1006.0</td>\n",
              "      <td>575.0</td>\n",
              "      <td>650.0</td>\n",
              "      <td>627.0</td>\n",
              "      <td>666.0</td>\n",
              "      <td>303.0</td>\n",
              "      <td>471.0</td>\n",
              "      <td>1023.0</td>\n",
              "      <td>758.0</td>\n",
              "      <td>748.0</td>\n",
              "      <td>1147.0</td>\n",
              "      <td>955.0</td>\n",
              "      <td>210.0</td>\n",
              "      <td>248.0</td>\n",
              "      <td>976.0</td>\n",
              "    </tr>\n",
              "    <tr>\n",
              "      <th>2</th>\n",
              "      <td>575.0</td>\n",
              "      <td>910.0</td>\n",
              "      <td>0.0</td>\n",
              "      <td>1318.0</td>\n",
              "      <td>597.0</td>\n",
              "      <td>300.0</td>\n",
              "      <td>290.0</td>\n",
              "      <td>1243.0</td>\n",
              "      <td>345.0</td>\n",
              "      <td>328.0</td>\n",
              "      <td>212.0</td>\n",
              "      <td>1095.0</td>\n",
              "      <td>1285.0</td>\n",
              "      <td>420.0</td>\n",
              "      <td>169.0</td>\n",
              "      <td>277.0</td>\n",
              "      <td>519.0</td>\n",
              "      <td>397.0</td>\n",
              "      <td>505.0</td>\n",
              "      <td>222.0</td>\n",
              "      <td>1100.0</td>\n",
              "      <td>684.0</td>\n",
              "      <td>953.0</td>\n",
              "      <td>948.0</td>\n",
              "      <td>1138.0</td>\n",
              "      <td>144.0</td>\n",
              "      <td>787.0</td>\n",
              "      <td>871.0</td>\n",
              "      <td>1015.0</td>\n",
              "      <td>1473.0</td>\n",
              "      <td>766.0</td>\n",
              "      <td>168.0</td>\n",
              "      <td>565.0</td>\n",
              "      <td>454.0</td>\n",
              "      <td>326.0</td>\n",
              "      <td>1340.0</td>\n",
              "      <td>503.0</td>\n",
              "      <td>521.0</td>\n",
              "      <td>665.0</td>\n",
              "      <td>426.0</td>\n",
              "      <td>...</td>\n",
              "      <td>223.0</td>\n",
              "      <td>100.0</td>\n",
              "      <td>855.0</td>\n",
              "      <td>310.0</td>\n",
              "      <td>767.0</td>\n",
              "      <td>1112.0</td>\n",
              "      <td>367.0</td>\n",
              "      <td>1202.0</td>\n",
              "      <td>440.0</td>\n",
              "      <td>459.0</td>\n",
              "      <td>827.0</td>\n",
              "      <td>1082.0</td>\n",
              "      <td>306.0</td>\n",
              "      <td>677.0</td>\n",
              "      <td>1282.0</td>\n",
              "      <td>675.0</td>\n",
              "      <td>703.0</td>\n",
              "      <td>585.0</td>\n",
              "      <td>643.0</td>\n",
              "      <td>1007.0</td>\n",
              "      <td>1079.0</td>\n",
              "      <td>924.0</td>\n",
              "      <td>115.0</td>\n",
              "      <td>1418.0</td>\n",
              "      <td>479.0</td>\n",
              "      <td>488.0</td>\n",
              "      <td>365.0</td>\n",
              "      <td>1037.0</td>\n",
              "      <td>336.0</td>\n",
              "      <td>339.0</td>\n",
              "      <td>1196.0</td>\n",
              "      <td>1284.0</td>\n",
              "      <td>515.0</td>\n",
              "      <td>1351.0</td>\n",
              "      <td>1461.0</td>\n",
              "      <td>338.0</td>\n",
              "      <td>447.0</td>\n",
              "      <td>821.0</td>\n",
              "      <td>662.0</td>\n",
              "      <td>375.0</td>\n",
              "    </tr>\n",
              "    <tr>\n",
              "      <th>3</th>\n",
              "      <td>966.0</td>\n",
              "      <td>648.0</td>\n",
              "      <td>1318.0</td>\n",
              "      <td>0.0</td>\n",
              "      <td>738.0</td>\n",
              "      <td>1141.0</td>\n",
              "      <td>1428.0</td>\n",
              "      <td>396.0</td>\n",
              "      <td>1640.0</td>\n",
              "      <td>1569.0</td>\n",
              "      <td>1361.0</td>\n",
              "      <td>356.0</td>\n",
              "      <td>234.0</td>\n",
              "      <td>1147.0</td>\n",
              "      <td>1423.0</td>\n",
              "      <td>1418.0</td>\n",
              "      <td>1689.0</td>\n",
              "      <td>986.0</td>\n",
              "      <td>830.0</td>\n",
              "      <td>1517.0</td>\n",
              "      <td>441.0</td>\n",
              "      <td>1639.0</td>\n",
              "      <td>496.0</td>\n",
              "      <td>370.0</td>\n",
              "      <td>183.0</td>\n",
              "      <td>1295.0</td>\n",
              "      <td>754.0</td>\n",
              "      <td>545.0</td>\n",
              "      <td>383.0</td>\n",
              "      <td>425.0</td>\n",
              "      <td>947.0</td>\n",
              "      <td>1373.0</td>\n",
              "      <td>1035.0</td>\n",
              "      <td>1409.0</td>\n",
              "      <td>1640.0</td>\n",
              "      <td>216.0</td>\n",
              "      <td>992.0</td>\n",
              "      <td>812.0</td>\n",
              "      <td>1620.0</td>\n",
              "      <td>942.0</td>\n",
              "      <td>...</td>\n",
              "      <td>1114.0</td>\n",
              "      <td>1373.0</td>\n",
              "      <td>592.0</td>\n",
              "      <td>1624.0</td>\n",
              "      <td>811.0</td>\n",
              "      <td>519.0</td>\n",
              "      <td>1662.0</td>\n",
              "      <td>245.0</td>\n",
              "      <td>891.0</td>\n",
              "      <td>938.0</td>\n",
              "      <td>589.0</td>\n",
              "      <td>439.0</td>\n",
              "      <td>1261.0</td>\n",
              "      <td>739.0</td>\n",
              "      <td>330.0</td>\n",
              "      <td>894.0</td>\n",
              "      <td>618.0</td>\n",
              "      <td>1540.0</td>\n",
              "      <td>675.0</td>\n",
              "      <td>476.0</td>\n",
              "      <td>423.0</td>\n",
              "      <td>617.0</td>\n",
              "      <td>1429.0</td>\n",
              "      <td>228.0</td>\n",
              "      <td>842.0</td>\n",
              "      <td>1206.0</td>\n",
              "      <td>966.0</td>\n",
              "      <td>305.0</td>\n",
              "      <td>1114.0</td>\n",
              "      <td>979.0</td>\n",
              "      <td>369.0</td>\n",
              "      <td>430.0</td>\n",
              "      <td>1175.0</td>\n",
              "      <td>310.0</td>\n",
              "      <td>143.0</td>\n",
              "      <td>1363.0</td>\n",
              "      <td>1106.0</td>\n",
              "      <td>814.0</td>\n",
              "      <td>879.0</td>\n",
              "      <td>1192.0</td>\n",
              "    </tr>\n",
              "    <tr>\n",
              "      <th>4</th>\n",
              "      <td>603.0</td>\n",
              "      <td>632.0</td>\n",
              "      <td>597.0</td>\n",
              "      <td>736.0</td>\n",
              "      <td>0.0</td>\n",
              "      <td>413.0</td>\n",
              "      <td>825.0</td>\n",
              "      <td>695.0</td>\n",
              "      <td>938.0</td>\n",
              "      <td>831.0</td>\n",
              "      <td>623.0</td>\n",
              "      <td>643.0</td>\n",
              "      <td>833.0</td>\n",
              "      <td>409.0</td>\n",
              "      <td>762.0</td>\n",
              "      <td>680.0</td>\n",
              "      <td>951.0</td>\n",
              "      <td>248.0</td>\n",
              "      <td>92.0</td>\n",
              "      <td>815.0</td>\n",
              "      <td>696.0</td>\n",
              "      <td>901.0</td>\n",
              "      <td>543.0</td>\n",
              "      <td>368.0</td>\n",
              "      <td>558.0</td>\n",
              "      <td>574.0</td>\n",
              "      <td>579.0</td>\n",
              "      <td>323.0</td>\n",
              "      <td>435.0</td>\n",
              "      <td>1133.0</td>\n",
              "      <td>676.0</td>\n",
              "      <td>719.0</td>\n",
              "      <td>639.0</td>\n",
              "      <td>671.0</td>\n",
              "      <td>919.0</td>\n",
              "      <td>760.0</td>\n",
              "      <td>254.0</td>\n",
              "      <td>346.0</td>\n",
              "      <td>882.0</td>\n",
              "      <td>312.0</td>\n",
              "      <td>...</td>\n",
              "      <td>511.0</td>\n",
              "      <td>652.0</td>\n",
              "      <td>463.0</td>\n",
              "      <td>903.0</td>\n",
              "      <td>503.0</td>\n",
              "      <td>792.0</td>\n",
              "      <td>960.0</td>\n",
              "      <td>750.0</td>\n",
              "      <td>361.0</td>\n",
              "      <td>439.0</td>\n",
              "      <td>279.0</td>\n",
              "      <td>534.0</td>\n",
              "      <td>523.0</td>\n",
              "      <td>131.0</td>\n",
              "      <td>882.0</td>\n",
              "      <td>258.0</td>\n",
              "      <td>220.0</td>\n",
              "      <td>802.0</td>\n",
              "      <td>114.0</td>\n",
              "      <td>459.0</td>\n",
              "      <td>499.0</td>\n",
              "      <td>716.0</td>\n",
              "      <td>708.0</td>\n",
              "      <td>966.0</td>\n",
              "      <td>200.0</td>\n",
              "      <td>468.0</td>\n",
              "      <td>422.0</td>\n",
              "      <td>457.0</td>\n",
              "      <td>615.0</td>\n",
              "      <td>258.0</td>\n",
              "      <td>796.0</td>\n",
              "      <td>982.0</td>\n",
              "      <td>437.0</td>\n",
              "      <td>783.0</td>\n",
              "      <td>881.0</td>\n",
              "      <td>625.0</td>\n",
              "      <td>368.0</td>\n",
              "      <td>639.0</td>\n",
              "      <td>608.0</td>\n",
              "      <td>454.0</td>\n",
              "    </tr>\n",
              "    <tr>\n",
              "      <th>...</th>\n",
              "      <td>...</td>\n",
              "      <td>...</td>\n",
              "      <td>...</td>\n",
              "      <td>...</td>\n",
              "      <td>...</td>\n",
              "      <td>...</td>\n",
              "      <td>...</td>\n",
              "      <td>...</td>\n",
              "      <td>...</td>\n",
              "      <td>...</td>\n",
              "      <td>...</td>\n",
              "      <td>...</td>\n",
              "      <td>...</td>\n",
              "      <td>...</td>\n",
              "      <td>...</td>\n",
              "      <td>...</td>\n",
              "      <td>...</td>\n",
              "      <td>...</td>\n",
              "      <td>...</td>\n",
              "      <td>...</td>\n",
              "      <td>...</td>\n",
              "      <td>...</td>\n",
              "      <td>...</td>\n",
              "      <td>...</td>\n",
              "      <td>...</td>\n",
              "      <td>...</td>\n",
              "      <td>...</td>\n",
              "      <td>...</td>\n",
              "      <td>...</td>\n",
              "      <td>...</td>\n",
              "      <td>...</td>\n",
              "      <td>...</td>\n",
              "      <td>...</td>\n",
              "      <td>...</td>\n",
              "      <td>...</td>\n",
              "      <td>...</td>\n",
              "      <td>...</td>\n",
              "      <td>...</td>\n",
              "      <td>...</td>\n",
              "      <td>...</td>\n",
              "      <td>...</td>\n",
              "      <td>...</td>\n",
              "      <td>...</td>\n",
              "      <td>...</td>\n",
              "      <td>...</td>\n",
              "      <td>...</td>\n",
              "      <td>...</td>\n",
              "      <td>...</td>\n",
              "      <td>...</td>\n",
              "      <td>...</td>\n",
              "      <td>...</td>\n",
              "      <td>...</td>\n",
              "      <td>...</td>\n",
              "      <td>...</td>\n",
              "      <td>...</td>\n",
              "      <td>...</td>\n",
              "      <td>...</td>\n",
              "      <td>...</td>\n",
              "      <td>...</td>\n",
              "      <td>...</td>\n",
              "      <td>...</td>\n",
              "      <td>...</td>\n",
              "      <td>...</td>\n",
              "      <td>...</td>\n",
              "      <td>...</td>\n",
              "      <td>...</td>\n",
              "      <td>...</td>\n",
              "      <td>...</td>\n",
              "      <td>...</td>\n",
              "      <td>...</td>\n",
              "      <td>...</td>\n",
              "      <td>...</td>\n",
              "      <td>...</td>\n",
              "      <td>...</td>\n",
              "      <td>...</td>\n",
              "      <td>...</td>\n",
              "      <td>...</td>\n",
              "      <td>...</td>\n",
              "      <td>...</td>\n",
              "      <td>...</td>\n",
              "      <td>...</td>\n",
              "    </tr>\n",
              "    <tr>\n",
              "      <th>76</th>\n",
              "      <td>899.0</td>\n",
              "      <td>1152.0</td>\n",
              "      <td>338.0</td>\n",
              "      <td>1361.0</td>\n",
              "      <td>625.0</td>\n",
              "      <td>407.0</td>\n",
              "      <td>601.0</td>\n",
              "      <td>1254.0</td>\n",
              "      <td>510.0</td>\n",
              "      <td>216.0</td>\n",
              "      <td>126.0</td>\n",
              "      <td>1266.0</td>\n",
              "      <td>1456.0</td>\n",
              "      <td>216.0</td>\n",
              "      <td>479.0</td>\n",
              "      <td>69.0</td>\n",
              "      <td>336.0</td>\n",
              "      <td>449.0</td>\n",
              "      <td>568.0</td>\n",
              "      <td>501.0</td>\n",
              "      <td>1311.0</td>\n",
              "      <td>406.0</td>\n",
              "      <td>1160.0</td>\n",
              "      <td>991.0</td>\n",
              "      <td>1181.0</td>\n",
              "      <td>209.0</td>\n",
              "      <td>1065.0</td>\n",
              "      <td>882.0</td>\n",
              "      <td>1044.0</td>\n",
              "      <td>1751.0</td>\n",
              "      <td>1090.0</td>\n",
              "      <td>478.0</td>\n",
              "      <td>889.0</td>\n",
              "      <td>176.0</td>\n",
              "      <td>390.0</td>\n",
              "      <td>1381.0</td>\n",
              "      <td>461.0</td>\n",
              "      <td>728.0</td>\n",
              "      <td>387.0</td>\n",
              "      <td>594.0</td>\n",
              "      <td>...</td>\n",
              "      <td>547.0</td>\n",
              "      <td>238.0</td>\n",
              "      <td>1062.0</td>\n",
              "      <td>355.0</td>\n",
              "      <td>989.0</td>\n",
              "      <td>1390.0</td>\n",
              "      <td>608.0</td>\n",
              "      <td>1373.0</td>\n",
              "      <td>685.0</td>\n",
              "      <td>757.0</td>\n",
              "      <td>838.0</td>\n",
              "      <td>1093.0</td>\n",
              "      <td>102.0</td>\n",
              "      <td>688.0</td>\n",
              "      <td>1497.0</td>\n",
              "      <td>633.0</td>\n",
              "      <td>845.0</td>\n",
              "      <td>307.0</td>\n",
              "      <td>739.0</td>\n",
              "      <td>1018.0</td>\n",
              "      <td>1122.0</td>\n",
              "      <td>1202.0</td>\n",
              "      <td>375.0</td>\n",
              "      <td>1589.0</td>\n",
              "      <td>625.0</td>\n",
              "      <td>284.0</td>\n",
              "      <td>635.0</td>\n",
              "      <td>1080.0</td>\n",
              "      <td>660.0</td>\n",
              "      <td>485.0</td>\n",
              "      <td>1411.0</td>\n",
              "      <td>1562.0</td>\n",
              "      <td>371.0</td>\n",
              "      <td>1362.0</td>\n",
              "      <td>1472.0</td>\n",
              "      <td>0.0</td>\n",
              "      <td>350.0</td>\n",
              "      <td>1120.0</td>\n",
              "      <td>987.0</td>\n",
              "      <td>171.0</td>\n",
              "    </tr>\n",
              "    <tr>\n",
              "      <th>77</th>\n",
              "      <td>714.0</td>\n",
              "      <td>960.0</td>\n",
              "      <td>447.0</td>\n",
              "      <td>1104.0</td>\n",
              "      <td>368.0</td>\n",
              "      <td>215.0</td>\n",
              "      <td>734.0</td>\n",
              "      <td>970.0</td>\n",
              "      <td>788.0</td>\n",
              "      <td>556.0</td>\n",
              "      <td>347.0</td>\n",
              "      <td>1009.0</td>\n",
              "      <td>1199.0</td>\n",
              "      <td>134.0</td>\n",
              "      <td>612.0</td>\n",
              "      <td>405.0</td>\n",
              "      <td>676.0</td>\n",
              "      <td>193.0</td>\n",
              "      <td>311.0</td>\n",
              "      <td>665.0</td>\n",
              "      <td>1064.0</td>\n",
              "      <td>626.0</td>\n",
              "      <td>911.0</td>\n",
              "      <td>734.0</td>\n",
              "      <td>924.0</td>\n",
              "      <td>424.0</td>\n",
              "      <td>873.0</td>\n",
              "      <td>598.0</td>\n",
              "      <td>760.0</td>\n",
              "      <td>1499.0</td>\n",
              "      <td>905.0</td>\n",
              "      <td>611.0</td>\n",
              "      <td>707.0</td>\n",
              "      <td>396.0</td>\n",
              "      <td>730.0</td>\n",
              "      <td>1124.0</td>\n",
              "      <td>114.0</td>\n",
              "      <td>536.0</td>\n",
              "      <td>607.0</td>\n",
              "      <td>402.0</td>\n",
              "      <td>...</td>\n",
              "      <td>480.0</td>\n",
              "      <td>454.0</td>\n",
              "      <td>831.0</td>\n",
              "      <td>695.0</td>\n",
              "      <td>797.0</td>\n",
              "      <td>1160.0</td>\n",
              "      <td>810.0</td>\n",
              "      <td>1116.0</td>\n",
              "      <td>493.0</td>\n",
              "      <td>569.0</td>\n",
              "      <td>554.0</td>\n",
              "      <td>809.0</td>\n",
              "      <td>248.0</td>\n",
              "      <td>404.0</td>\n",
              "      <td>1250.0</td>\n",
              "      <td>297.0</td>\n",
              "      <td>588.0</td>\n",
              "      <td>527.0</td>\n",
              "      <td>482.0</td>\n",
              "      <td>734.0</td>\n",
              "      <td>865.0</td>\n",
              "      <td>1010.0</td>\n",
              "      <td>558.0</td>\n",
              "      <td>1332.0</td>\n",
              "      <td>415.0</td>\n",
              "      <td>100.0</td>\n",
              "      <td>447.0</td>\n",
              "      <td>823.0</td>\n",
              "      <td>591.0</td>\n",
              "      <td>293.0</td>\n",
              "      <td>1164.0</td>\n",
              "      <td>1350.0</td>\n",
              "      <td>89.0</td>\n",
              "      <td>1078.0</td>\n",
              "      <td>1215.0</td>\n",
              "      <td>350.0</td>\n",
              "      <td>0.0</td>\n",
              "      <td>928.0</td>\n",
              "      <td>801.0</td>\n",
              "      <td>179.0</td>\n",
              "    </tr>\n",
              "    <tr>\n",
              "      <th>78</th>\n",
              "      <td>246.0</td>\n",
              "      <td>210.0</td>\n",
              "      <td>821.0</td>\n",
              "      <td>814.0</td>\n",
              "      <td>644.0</td>\n",
              "      <td>715.0</td>\n",
              "      <td>781.0</td>\n",
              "      <td>917.0</td>\n",
              "      <td>1120.0</td>\n",
              "      <td>1149.0</td>\n",
              "      <td>1017.0</td>\n",
              "      <td>514.0</td>\n",
              "      <td>580.0</td>\n",
              "      <td>909.0</td>\n",
              "      <td>903.0</td>\n",
              "      <td>1086.0</td>\n",
              "      <td>1347.0</td>\n",
              "      <td>744.0</td>\n",
              "      <td>678.0</td>\n",
              "      <td>1001.0</td>\n",
              "      <td>373.0</td>\n",
              "      <td>1401.0</td>\n",
              "      <td>402.0</td>\n",
              "      <td>667.0</td>\n",
              "      <td>691.0</td>\n",
              "      <td>934.0</td>\n",
              "      <td>64.0</td>\n",
              "      <td>761.0</td>\n",
              "      <td>800.0</td>\n",
              "      <td>746.0</td>\n",
              "      <td>145.0</td>\n",
              "      <td>863.0</td>\n",
              "      <td>315.0</td>\n",
              "      <td>1171.0</td>\n",
              "      <td>1147.0</td>\n",
              "      <td>894.0</td>\n",
              "      <td>850.0</td>\n",
              "      <td>397.0</td>\n",
              "      <td>1382.0</td>\n",
              "      <td>531.0</td>\n",
              "      <td>...</td>\n",
              "      <td>604.0</td>\n",
              "      <td>921.0</td>\n",
              "      <td>304.0</td>\n",
              "      <td>1131.0</td>\n",
              "      <td>136.0</td>\n",
              "      <td>385.0</td>\n",
              "      <td>1092.0</td>\n",
              "      <td>625.0</td>\n",
              "      <td>478.0</td>\n",
              "      <td>453.0</td>\n",
              "      <td>748.0</td>\n",
              "      <td>950.0</td>\n",
              "      <td>1023.0</td>\n",
              "      <td>761.0</td>\n",
              "      <td>555.0</td>\n",
              "      <td>902.0</td>\n",
              "      <td>463.0</td>\n",
              "      <td>1302.0</td>\n",
              "      <td>532.0</td>\n",
              "      <td>885.0</td>\n",
              "      <td>536.0</td>\n",
              "      <td>197.0</td>\n",
              "      <td>936.0</td>\n",
              "      <td>741.0</td>\n",
              "      <td>594.0</td>\n",
              "      <td>984.0</td>\n",
              "      <td>513.0</td>\n",
              "      <td>796.0</td>\n",
              "      <td>538.0</td>\n",
              "      <td>644.0</td>\n",
              "      <td>469.0</td>\n",
              "      <td>557.0</td>\n",
              "      <td>1001.0</td>\n",
              "      <td>924.0</td>\n",
              "      <td>917.0</td>\n",
              "      <td>1125.0</td>\n",
              "      <td>933.0</td>\n",
              "      <td>0.0</td>\n",
              "      <td>159.0</td>\n",
              "      <td>949.0</td>\n",
              "    </tr>\n",
              "    <tr>\n",
              "      <th>79</th>\n",
              "      <td>87.0</td>\n",
              "      <td>248.0</td>\n",
              "      <td>662.0</td>\n",
              "      <td>879.0</td>\n",
              "      <td>613.0</td>\n",
              "      <td>579.0</td>\n",
              "      <td>622.0</td>\n",
              "      <td>948.0</td>\n",
              "      <td>961.0</td>\n",
              "      <td>990.0</td>\n",
              "      <td>860.0</td>\n",
              "      <td>549.0</td>\n",
              "      <td>645.0</td>\n",
              "      <td>777.0</td>\n",
              "      <td>744.0</td>\n",
              "      <td>929.0</td>\n",
              "      <td>1188.0</td>\n",
              "      <td>664.0</td>\n",
              "      <td>647.0</td>\n",
              "      <td>842.0</td>\n",
              "      <td>438.0</td>\n",
              "      <td>1265.0</td>\n",
              "      <td>407.0</td>\n",
              "      <td>672.0</td>\n",
              "      <td>722.0</td>\n",
              "      <td>777.0</td>\n",
              "      <td>125.0</td>\n",
              "      <td>730.0</td>\n",
              "      <td>788.0</td>\n",
              "      <td>811.0</td>\n",
              "      <td>129.0</td>\n",
              "      <td>704.0</td>\n",
              "      <td>156.0</td>\n",
              "      <td>1035.0</td>\n",
              "      <td>988.0</td>\n",
              "      <td>925.0</td>\n",
              "      <td>770.0</td>\n",
              "      <td>366.0</td>\n",
              "      <td>1246.0</td>\n",
              "      <td>464.0</td>\n",
              "      <td>...</td>\n",
              "      <td>445.0</td>\n",
              "      <td>762.0</td>\n",
              "      <td>309.0</td>\n",
              "      <td>972.0</td>\n",
              "      <td>105.0</td>\n",
              "      <td>450.0</td>\n",
              "      <td>933.0</td>\n",
              "      <td>656.0</td>\n",
              "      <td>376.0</td>\n",
              "      <td>294.0</td>\n",
              "      <td>717.0</td>\n",
              "      <td>929.0</td>\n",
              "      <td>887.0</td>\n",
              "      <td>730.0</td>\n",
              "      <td>620.0</td>\n",
              "      <td>871.0</td>\n",
              "      <td>432.0</td>\n",
              "      <td>1166.0</td>\n",
              "      <td>501.0</td>\n",
              "      <td>854.0</td>\n",
              "      <td>541.0</td>\n",
              "      <td>262.0</td>\n",
              "      <td>777.0</td>\n",
              "      <td>806.0</td>\n",
              "      <td>563.0</td>\n",
              "      <td>852.0</td>\n",
              "      <td>354.0</td>\n",
              "      <td>801.0</td>\n",
              "      <td>379.0</td>\n",
              "      <td>564.0</td>\n",
              "      <td>534.0</td>\n",
              "      <td>622.0</td>\n",
              "      <td>869.0</td>\n",
              "      <td>955.0</td>\n",
              "      <td>982.0</td>\n",
              "      <td>986.0</td>\n",
              "      <td>801.0</td>\n",
              "      <td>159.0</td>\n",
              "      <td>0.0</td>\n",
              "      <td>822.0</td>\n",
              "    </tr>\n",
              "    <tr>\n",
              "      <th>80</th>\n",
              "      <td>735.0</td>\n",
              "      <td>981.0</td>\n",
              "      <td>375.0</td>\n",
              "      <td>1190.0</td>\n",
              "      <td>454.0</td>\n",
              "      <td>236.0</td>\n",
              "      <td>638.0</td>\n",
              "      <td>1083.0</td>\n",
              "      <td>671.0</td>\n",
              "      <td>377.0</td>\n",
              "      <td>168.0</td>\n",
              "      <td>1095.0</td>\n",
              "      <td>1285.0</td>\n",
              "      <td>45.0</td>\n",
              "      <td>516.0</td>\n",
              "      <td>226.0</td>\n",
              "      <td>497.0</td>\n",
              "      <td>278.0</td>\n",
              "      <td>397.0</td>\n",
              "      <td>560.0</td>\n",
              "      <td>1140.0</td>\n",
              "      <td>447.0</td>\n",
              "      <td>989.0</td>\n",
              "      <td>820.0</td>\n",
              "      <td>1010.0</td>\n",
              "      <td>246.0</td>\n",
              "      <td>894.0</td>\n",
              "      <td>711.0</td>\n",
              "      <td>873.0</td>\n",
              "      <td>1580.0</td>\n",
              "      <td>926.0</td>\n",
              "      <td>515.0</td>\n",
              "      <td>728.0</td>\n",
              "      <td>217.0</td>\n",
              "      <td>551.0</td>\n",
              "      <td>1210.0</td>\n",
              "      <td>290.0</td>\n",
              "      <td>557.0</td>\n",
              "      <td>428.0</td>\n",
              "      <td>423.0</td>\n",
              "      <td>...</td>\n",
              "      <td>501.0</td>\n",
              "      <td>275.0</td>\n",
              "      <td>891.0</td>\n",
              "      <td>516.0</td>\n",
              "      <td>818.0</td>\n",
              "      <td>1219.0</td>\n",
              "      <td>705.0</td>\n",
              "      <td>1202.0</td>\n",
              "      <td>514.0</td>\n",
              "      <td>590.0</td>\n",
              "      <td>667.0</td>\n",
              "      <td>922.0</td>\n",
              "      <td>69.0</td>\n",
              "      <td>517.0</td>\n",
              "      <td>1326.0</td>\n",
              "      <td>462.0</td>\n",
              "      <td>674.0</td>\n",
              "      <td>348.0</td>\n",
              "      <td>568.0</td>\n",
              "      <td>847.0</td>\n",
              "      <td>951.0</td>\n",
              "      <td>1031.0</td>\n",
              "      <td>414.0</td>\n",
              "      <td>1418.0</td>\n",
              "      <td>454.0</td>\n",
              "      <td>113.0</td>\n",
              "      <td>468.0</td>\n",
              "      <td>909.0</td>\n",
              "      <td>612.0</td>\n",
              "      <td>314.0</td>\n",
              "      <td>1240.0</td>\n",
              "      <td>1391.0</td>\n",
              "      <td>200.0</td>\n",
              "      <td>1191.0</td>\n",
              "      <td>1301.0</td>\n",
              "      <td>171.0</td>\n",
              "      <td>179.0</td>\n",
              "      <td>954.0</td>\n",
              "      <td>822.0</td>\n",
              "      <td>0.0</td>\n",
              "    </tr>\n",
              "  </tbody>\n",
              "</table>\n",
              "<p>81 rows × 81 columns</p>\n",
              "</div>"
            ],
            "text/plain": [
              "    ADANA  ADIYAMAN  AFYONKARAHİSAR    AĞRI  ...  KARABÜK   KİLİS  OSMANİYE   DÜZCE\n",
              "0     0.0     335.0           575.0   966.0  ...    714.0   246.0      87.0   735.0\n",
              "1   335.0       0.0           910.0   648.0  ...    955.0   210.0     248.0   976.0\n",
              "2   575.0     910.0             0.0  1318.0  ...    447.0   821.0     662.0   375.0\n",
              "3   966.0     648.0          1318.0     0.0  ...   1106.0   814.0     879.0  1192.0\n",
              "4   603.0     632.0           597.0   736.0  ...    368.0   639.0     608.0   454.0\n",
              "..    ...       ...             ...     ...  ...      ...     ...       ...     ...\n",
              "76  899.0    1152.0           338.0  1361.0  ...    350.0  1120.0     987.0   171.0\n",
              "77  714.0     960.0           447.0  1104.0  ...      0.0   928.0     801.0   179.0\n",
              "78  246.0     210.0           821.0   814.0  ...    933.0     0.0     159.0   949.0\n",
              "79   87.0     248.0           662.0   879.0  ...    801.0   159.0       0.0   822.0\n",
              "80  735.0     981.0           375.0  1190.0  ...    179.0   954.0     822.0     0.0\n",
              "\n",
              "[81 rows x 81 columns]"
            ]
          },
          "metadata": {},
          "execution_count": 85
        }
      ]
    },
    {
      "cell_type": "markdown",
      "metadata": {
        "id": "1rwrhwdghnyd"
      },
      "source": [
        "\n",
        "Since the matrix is ​​not symmetrical, a symmetric matrix should be created by taking the average of 2 values."
      ]
    },
    {
      "cell_type": "code",
      "metadata": {
        "colab": {
          "base_uri": "https://localhost:8080/"
        },
        "id": "s9xyrNomhouT",
        "outputId": "7a7150fd-2dbb-4fd5-8d5f-aa1fce343645"
      },
      "source": [
        "lower_matrix = np.tril(distances)\n",
        "upper_matrix = np.triu(distances)\n",
        "sym_lower_matrix = (lower_matrix + upper_matrix.T)/2\n",
        "sym_distances = sym_lower_matrix + sym_lower_matrix.T\n",
        "sym_distances"
      ],
      "execution_count": 31,
      "outputs": [
        {
          "output_type": "execute_result",
          "data": {
            "text/plain": [
              "array([[  0. , 335. , 575. , ..., 246. ,  87. , 735. ],\n",
              "       [335. ,   0. , 910. , ..., 210. , 248. , 978.5],\n",
              "       [575. , 910. ,   0. , ..., 821. , 662. , 375. ],\n",
              "       ...,\n",
              "       [246. , 210. , 821. , ...,   0. , 159. , 951.5],\n",
              "       [ 87. , 248. , 662. , ..., 159. ,   0. , 822. ],\n",
              "       [735. , 978.5, 375. , ..., 951.5, 822. ,   0. ]])"
            ]
          },
          "metadata": {},
          "execution_count": 31
        }
      ]
    },
    {
      "cell_type": "code",
      "metadata": {
        "id": "BGKAfRIjjyK2"
      },
      "source": [
        "mds = MDS(n_components=2, dissimilarity=\"precomputed\")\n",
        "mds_dim = mds.fit_transform(sym_distances)\n",
        "distances[[\"MDS1\", \"MDS2\"]] = mds_dim"
      ],
      "execution_count": 88,
      "outputs": []
    },
    {
      "cell_type": "code",
      "metadata": {
        "id": "O3qXUSaCpbDC"
      },
      "source": [
        "cities=[\"Adana\", \"Adıyaman\", \"Afyon\", \"Ağrı\", \"Amasya\", \"Ankara\", \"Antalya\", \"Artvin\", \"Aydın\", \"Balıkesir\", \"Bilecik\", \"Bingöl\", \"Bitlis\", \"Bolu\", \"Burdur\", \"Bursa\", \"Çanakkale\", \"Çankırı\", \"Çorum\", \"Denizli\", \"Diyarbakır\", \"Edirne\", \"Elazığ\", \"Erzincan\", \"Erzurum\", \"Eskişehir\", \"Gaziantep\", \"Giresun\", \"Gümüşhane\", \"Hakkari\", \"Hatay\", \"Isparta\", \"İçel (Mersin)\", \"İstanbul\", \"İzmir\", \"Kars\", \"Kastamonu\", \"Kayseri\", \"Kırklareli\", \"Kırşehir\", \"Kocaeli\", \"Konya\", \"Kütahya\", \"Malatya\", \"Manisa\", \"Kahramanmaraş\", \"Mardin\", \"Muğla\", \"Muş\", \"Nevşehir\", \"Niğde\", \"Ordu\", \"Rize\", \"Sakarya\", \"Samsun\", \"Siirt\", \"Sinop\", \"Sivas\", \"Tekirdağ\", \"Tokat\", \"Trabzon\", \"Tunceli\", \"Şanlıurfa\", \"Uşak\", \"Van\", \"Yozgat\", \"Zonguldak\", \"Aksaray\", \"Bayburt\", \"Karaman\", \"Kırıkkale\", \"Batman\", \"Şırnak\", \"Bartın\", \"Ardahan\", \"Iğdır\", \"Yalova\", \"Karabük\", \"Kilis\", \"Osmaniye\", \"Düzce\"\n",
        "]\n"
      ],
      "execution_count": 89,
      "outputs": []
    },
    {
      "cell_type": "code",
      "metadata": {
        "colab": {
          "base_uri": "https://localhost:8080/",
          "height": 497
        },
        "id": "ghPgD9vdlRQu",
        "outputId": "97bae0a5-7cc9-4876-9337-3d8855b96cde"
      },
      "source": [
        "f = plt.figure()\n",
        "f.set_figwidth(15)\n",
        "f.set_figheight(8)\n",
        "plt.scatter(-distances.MDS1, -distances.MDS2,c='lightblue')\n",
        "for i in range(len(mds_dim)):\n",
        "    plt.annotate(cities[i], (-distances.MDS1[i],-distances.MDS2[i]))\n",
        "plt.xlabel(\"Dimension 1\")\n",
        "plt.ylabel(\"Dimension 2\")\n",
        "plt.show()"
      ],
      "execution_count": 102,
      "outputs": [
        {
          "output_type": "display_data",
          "data": {
            "image/png": "[encoded data removed]",
            "text/plain": [
              "<Figure size 1080x576 with 1 Axes>"
            ]
          },
          "metadata": {
            "needs_background": "light"
          }
        }
      ]
    },
    {
      "cell_type": "markdown",
      "metadata": {
        "id": "N_VVIrqDxrlZ"
      },
      "source": [
        "The distance between some cities is seen more than usual. Mountainous regions may have caused this error."
      ]
    },
    {
      "cell_type": "code",
      "metadata": {
        "id": "KaE4XIMbyGHZ"
      },
      "source": [
        "%%shell\n",
        "jupyter nbconvert --to html /content/IE582_Fall21_Homework2.ipynb"
      ],
      "execution_count": null,
      "outputs": []
    }
  ]
}