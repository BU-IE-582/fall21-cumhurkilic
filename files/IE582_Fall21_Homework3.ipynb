{
  "nbformat": 4,
  "nbformat_minor": 0,
  "metadata": {
    "colab": {
      "name": "IE582_Fall21_Homework3.ipynb",
      "provenance": [],
      "collapsed_sections": []
    },
    "kernelspec": {
      "name": "python3",
      "display_name": "Python 3"
    },
    "language_info": {
      "name": "python"
    }
  },
  "cells": [
    {
      "cell_type": "markdown",
      "metadata": {
        "id": "xbZ5xhonYCcd"
      },
      "source": [
        "##IE582_Fall21_Homework3\n",
        "\n"
      ]
    },
    {
      "cell_type": "markdown",
      "metadata": {
        "id": "PitZFKN-YLu9"
      },
      "source": [
        "##Task1 - On the use of distance information for UwaveGesture Recognition Task"
      ]
    },
    {
      "cell_type": "code",
      "metadata": {
        "id": "czllYsc0YDHm"
      },
      "source": [
        "# import required libraries\n",
        "\n",
        "import pandas as pd\n",
        "import numpy as np\n",
        "import seaborn as sns\n",
        "from sklearn.metrics import confusion_matrix\n",
        "from sklearn.metrics import log_loss, make_scorer\n",
        "from scipy.spatial import distance_matrix\n",
        "\n",
        "import time"
      ],
      "execution_count": 9,
      "outputs": []
    },
    {
      "cell_type": "code",
      "metadata": {
        "colab": {
          "base_uri": "https://localhost:8080/"
        },
        "id": "3WUphFrAEkxc",
        "outputId": "a59d7df9-32b6-450a-80a3-04028e556bd5"
      },
      "source": [
        "# X Train\n",
        "x_train = pd.read_csv(\"uWaveGestureLibrary_X_TRAIN\", header=None, sep=\" \",prefix=\"xt\", skipinitialspace=True)\n",
        "y_train = pd.read_csv(\"uWaveGestureLibrary_Y_TRAIN\", header=None, sep=\" \",prefix=\"yt\", skipinitialspace=True)\n",
        "z_train = pd.read_csv(\"uWaveGestureLibrary_Z_TRAIN\", header=None, sep=\" \",prefix=\"zt\", skipinitialspace=True)\n",
        "classes = x_train.iloc[:, 0]\n",
        "x_train=x_train.iloc[:,1:]\n",
        "y_train=y_train.iloc[:,1:]\n",
        "z_train=z_train.iloc[:,1:]\n",
        "print(classes)"
      ],
      "execution_count": 10,
      "outputs": [
        {
          "output_type": "stream",
          "name": "stdout",
          "text": [
            "0      6.0\n",
            "1      5.0\n",
            "2      5.0\n",
            "3      3.0\n",
            "4      4.0\n",
            "      ... \n",
            "891    3.0\n",
            "892    1.0\n",
            "893    2.0\n",
            "894    7.0\n",
            "895    5.0\n",
            "Name: xt0, Length: 896, dtype: float64\n"
          ]
        }
      ]
    },
    {
      "cell_type": "code",
      "metadata": {
        "colab": {
          "base_uri": "https://localhost:8080/"
        },
        "id": "tJyWcsTZML2n",
        "outputId": "acebaf8e-1dcc-4cf0-bc0f-d8b3122d9e58"
      },
      "source": [
        "# Concatenate the variables for train\n",
        "concat_all = pd.concat([x_train, y_train, z_train], join=\"inner\", axis=1)\n",
        "print(concat_all.head())"
      ],
      "execution_count": 11,
      "outputs": [
        {
          "output_type": "stream",
          "name": "stdout",
          "text": [
            "        xt1       xt2       xt3  ...     zt313     zt314     zt315\n",
            "0 -0.304243 -0.304243 -0.304243  ...  0.419187  0.400743  0.382298\n",
            "1  1.627311  1.627311  1.627311  ... -0.464613 -0.476560 -0.488507\n",
            "2  0.661277  0.661277  0.661277  ... -0.862717 -0.862717 -0.862717\n",
            "3  0.005185  0.005185  0.005185  ...  0.445503  0.648538  0.851573\n",
            "4  1.286198  1.286198  1.286198  ...  1.632637  1.750054  1.867472\n",
            "\n",
            "[5 rows x 945 columns]\n"
          ]
        }
      ]
    },
    {
      "cell_type": "code",
      "metadata": {
        "colab": {
          "base_uri": "https://localhost:8080/"
        },
        "id": "N_hvDqQ_Xf2o",
        "outputId": "18e0373b-7e13-4d64-ca50-d98359ab0d8c"
      },
      "source": [
        "# X Test\n",
        "x_test = pd.read_csv(\"uWaveGestureLibrary_X_TEST\", header=None, sep=\" \",prefix=\"xt\", skipinitialspace=True)\n",
        "y_test = pd.read_csv(\"uWaveGestureLibrary_Y_TEST\", header=None, sep=\" \",prefix=\"yt\", skipinitialspace=True)\n",
        "z_test = pd.read_csv(\"uWaveGestureLibrary_Z_TEST\", header=None, sep=\" \",prefix=\"zt\", skipinitialspace=True)\n",
        "classes_test = x_test.iloc[:, 0]\n",
        "x_test=x_test.iloc[:,1:]\n",
        "y_test=y_test.iloc[:,1:]\n",
        "z_test=z_test.iloc[:,1:]\n",
        "concat_test = pd.concat([x_test, y_test, z_test], join=\"inner\", axis=1)\n",
        "print(concat_test.head())"
      ],
      "execution_count": 12,
      "outputs": [
        {
          "output_type": "stream",
          "name": "stdout",
          "text": [
            "        xt1       xt2       xt3  ...     zt313     zt314     zt315\n",
            "0  1.557018  1.557018  1.557018  ... -0.309976 -0.302252 -0.294528\n",
            "1 -0.075096 -0.075096 -0.075096  ...  0.515810  0.515810  0.515810\n",
            "2  1.509012  1.526296  1.543580  ... -0.124011 -0.068995 -0.013979\n",
            "3  1.303974  1.303974  1.303974  ...  1.227442  1.283883  1.340324\n",
            "4  1.298089  1.298089  1.298089  ... -0.667595 -0.663900 -0.660205\n",
            "\n",
            "[5 rows x 945 columns]\n"
          ]
        }
      ]
    },
    {
      "cell_type": "markdown",
      "metadata": {
        "id": "J7GY1dcLYWjQ"
      },
      "source": [
        "####Part a) Propose two distance measures for computing similarity between two time series. The distance calculation on the concatenated time series implicitly weights the distances of each axis in an equal way. For each distance measure alternative, use the training data to identify the ideal value of k which minimizes the error of a 10-fold cross-validation."
      ]
    },
    {
      "cell_type": "code",
      "metadata": {
        "id": "YsDLvqbYYa_c"
      },
      "source": [
        "from sklearn.neighbors import KNeighborsClassifier\n",
        "import matplotlib.pyplot as plt\n",
        "from matplotlib.ticker import NullFormatter\n",
        "import matplotlib.ticker as ticker\n",
        "from sklearn.model_selection import cross_val_score"
      ],
      "execution_count": 13,
      "outputs": []
    },
    {
      "cell_type": "markdown",
      "metadata": {
        "id": "nIvohKa2ZIUo"
      },
      "source": [
        "When p = 1, this is equivalent to using manhattan_distance (l1). Calculate best k values for manhattan_distance."
      ]
    },
    {
      "cell_type": "code",
      "metadata": {
        "colab": {
          "base_uri": "https://localhost:8080/",
          "height": 421
        },
        "id": "-kthYBk5Y7hr",
        "outputId": "b8b13691-1909-408d-e0de-b31d2cbeedc7"
      },
      "source": [
        "error_rate = []\n",
        "for i in range(1,30):\n",
        " knn = KNeighborsClassifier(n_neighbors=i,p=1)\n",
        " scores = cross_val_score(knn, concat_all, classes, cv=10)\n",
        " error_rate.append(1-np.mean(scores))\n",
        "\n",
        "plt.figure(figsize=(10,6))\n",
        "plt.plot(range(1,30),error_rate,color='blue', linestyle='dashed', \n",
        "         marker='o',markerfacecolor='red', markersize=10)\n",
        "plt.title('Error Rate vs. K Value')\n",
        "plt.xlabel('K')\n",
        "plt.ylabel('Error Rate')\n",
        "print(\"Minimum error: \",min(error_rate),\"at K =\",error_rate.index(min(error_rate)))"
      ],
      "execution_count": 14,
      "outputs": [
        {
          "output_type": "stream",
          "name": "stdout",
          "text": [
            "Minimum error:  0.04126092384519353 at K = 0\n"
          ]
        },
        {
          "output_type": "display_data",
          "data": {
            "image/png": "[encoded data removed]",
            "text/plain": [
              "<Figure size 720x432 with 1 Axes>"
            ]
          },
          "metadata": {
            "needs_background": "light"
          }
        }
      ]
    },
    {
      "cell_type": "markdown",
      "metadata": {
        "id": "BoXpNLc3KFGc"
      },
      "source": [
        "k=1 gives minimum error rate."
      ]
    },
    {
      "cell_type": "markdown",
      "metadata": {
        "id": "3Rp86l6gc33B"
      },
      "source": [
        "When p = 2, this is equivalent to using euclidean_distance(l2). Calculate best k values for euclidean_distance."
      ]
    },
    {
      "cell_type": "code",
      "metadata": {
        "colab": {
          "base_uri": "https://localhost:8080/",
          "height": 421
        },
        "id": "3kOF2dc6dC2J",
        "outputId": "fce3ce2f-aee1-4f07-f893-9cba8c9ee64c"
      },
      "source": [
        "error_rate = []\n",
        "for i in range(1,30):\n",
        " knn = KNeighborsClassifier(n_neighbors=i,p=2)\n",
        " scores = cross_val_score(knn, concat_all, classes, cv=10)\n",
        " error_rate.append(1-np.mean(scores))\n",
        "\n",
        "plt.figure(figsize=(10,6))\n",
        "plt.plot(range(1,30),error_rate,color='blue', linestyle='dashed', \n",
        "         marker='o',markerfacecolor='red', markersize=10)\n",
        "plt.title('Error Rate vs. K Value')\n",
        "plt.xlabel('K')\n",
        "plt.ylabel('Error Rate')\n",
        "print(\"Minimum error:-\",min(error_rate),\"at K =\",error_rate.index(min(error_rate)))"
      ],
      "execution_count": 15,
      "outputs": [
        {
          "output_type": "stream",
          "name": "stdout",
          "text": [
            "Minimum error:- 0.05580524344569293 at K = 2\n"
          ]
        },
        {
          "output_type": "display_data",
          "data": {
            "image/png": "[encoded data removed]",
            "text/plain": [
              "<Figure size 720x432 with 1 Axes>"
            ]
          },
          "metadata": {
            "needs_background": "light"
          }
        }
      ]
    },
    {
      "cell_type": "markdown",
      "metadata": {
        "id": "cqZwck-QKJyc"
      },
      "source": [
        "k=3 gives minimum error rate."
      ]
    },
    {
      "cell_type": "markdown",
      "metadata": {
        "id": "-4FAc3KWdRkb"
      },
      "source": [
        "**As can be easily seen from the graphs,**\n",
        "\n",
        "**k=1 gives the least error for Manhattan Distance and k=3 gives the least error for Euclidean Distance** "
      ]
    },
    {
      "cell_type": "markdown",
      "metadata": {
        "id": "iK06VymmeHhz"
      },
      "source": [
        "####Part b) Using the value of k (identified for each distance measure) in part (a) and evaluate your final performance on the test data and present your results in a (8-by-8) confusion matrix, showing the counts for actual and predicted labels. In addition, quote the runtime and accuracy for your results."
      ]
    },
    {
      "cell_type": "code",
      "metadata": {
        "colab": {
          "base_uri": "https://localhost:8080/"
        },
        "id": "Wc6o1G2UeDeP",
        "outputId": "2ec05d69-3b26-469f-abdb-17b394db3620"
      },
      "source": [
        "#Run time performance\n",
        "start = time.time()\n",
        "knn=KNeighborsClassifier(n_neighbors=1,p=1)\n",
        "knn.fit(concat_all, classes)\n",
        "y_pred_l1 = knn.predict(concat_test)\n",
        "end = time.time()\n",
        "print(\"Runtime For KNN with L1-norm: {:.3f} seconds\".format(end-start))\n",
        "\n",
        "start = time.time()\n",
        "knn=KNeighborsClassifier(n_neighbors=3,p=2)\n",
        "knn.fit(concat_all, classes)\n",
        "y_pred_l2 = knn.predict(concat_test)\n",
        "end = time.time()\n",
        "print(\"Runtime For KNN with L2-norm: {:.3f} seconds\".format(end-start))"
      ],
      "execution_count": 16,
      "outputs": [
        {
          "output_type": "stream",
          "name": "stdout",
          "text": [
            "Runtime For KNN with L1-norm: 2.770 seconds\n",
            "Runtime For KNN with L2-norm: 0.412 seconds\n"
          ]
        }
      ]
    },
    {
      "cell_type": "code",
      "metadata": {
        "colab": {
          "base_uri": "https://localhost:8080/"
        },
        "id": "ZFw8zwhzgRov",
        "outputId": "2ec289c9-6af1-4536-9755-6be669ef66a4"
      },
      "source": [
        "# Confusion Matrix For KNN with L1-norm and k=1\n",
        "print(\"Confusion Matrix For KNN with L1-norm and k=1\")\n",
        "confusion_matrix_l1 = pd.crosstab(classes_test, y_pred_l1,rownames=['actual'], colnames=['predicted'])\n",
        "print(confusion_matrix_l1)"
      ],
      "execution_count": 17,
      "outputs": [
        {
          "output_type": "stream",
          "name": "stdout",
          "text": [
            "Confusion Matrix For KNN with L1-norm and k=1\n",
            "predicted  1.0  2.0  3.0  4.0  5.0  6.0  7.0  8.0\n",
            "actual                                           \n",
            "1.0        430    0    0    2    0    5    0    0\n",
            "2.0          1  451    0    0    0    0    0    0\n",
            "3.0          2    0  418    0   16   14    4    0\n",
            "4.0          3    0    0  392   40   11    0    4\n",
            "5.0          3    0    9    5  415    1    0    0\n",
            "6.0          3    0    5   13   16  411    0    1\n",
            "7.0          0    0    2    0    0    0  445    0\n",
            "8.0          0    0    0    3    1    0    0  456\n"
          ]
        }
      ]
    },
    {
      "cell_type": "code",
      "metadata": {
        "colab": {
          "base_uri": "https://localhost:8080/"
        },
        "id": "4L0v8RqKh7pT",
        "outputId": "02bb9cf2-2387-4382-b7fb-0555b18add97"
      },
      "source": [
        "#Calculate accuracy score\n",
        "from sklearn.metrics import accuracy_score\n",
        "accuracy_score(classes_test, y_pred_l1)"
      ],
      "execution_count": 18,
      "outputs": [
        {
          "output_type": "execute_result",
          "data": {
            "text/plain": [
              "0.954215522054718"
            ]
          },
          "metadata": {},
          "execution_count": 18
        }
      ]
    },
    {
      "cell_type": "code",
      "metadata": {
        "colab": {
          "base_uri": "https://localhost:8080/"
        },
        "id": "SThdcvAihVSB",
        "outputId": "efae8c6e-f667-41c5-bf75-a4d8cd0e4e55"
      },
      "source": [
        "# Confusion Matrix For KNN with L2-norm and k=3\n",
        "print(\"Confusion Matrix For KNN with L2-norm and k=3\")\n",
        "confusion_matrix_l1 = pd.crosstab(classes_test, y_pred_l2,rownames=['actual'], colnames=['predicted'])\n",
        "print(confusion_matrix_l1)"
      ],
      "execution_count": 19,
      "outputs": [
        {
          "output_type": "stream",
          "name": "stdout",
          "text": [
            "Confusion Matrix For KNN with L2-norm and k=3\n",
            "predicted  1.0  2.0  3.0  4.0  5.0  6.0  7.0  8.0\n",
            "actual                                           \n",
            "1.0        431    0    0    2    0    4    0    0\n",
            "2.0          1  449    0    0    0    0    2    0\n",
            "3.0          2    0  413    0   15   20    4    0\n",
            "4.0          7    0    0  370   60    6    0    7\n",
            "5.0          3    0    6    1  422    1    0    0\n",
            "6.0          6    0    7   15   28  392    1    0\n",
            "7.0          0    0    1    0    0    0  446    0\n",
            "8.0          0    0    0    1    1    0    0  458\n"
          ]
        }
      ]
    },
    {
      "cell_type": "code",
      "metadata": {
        "colab": {
          "base_uri": "https://localhost:8080/"
        },
        "id": "2yHY-LFviHzg",
        "outputId": "61c994f3-108d-4f7c-82b7-485bbb4b7516"
      },
      "source": [
        "#Calculate accuracy score\n",
        "accuracy_score(classes_test, y_pred_l2)"
      ],
      "execution_count": 20,
      "outputs": [
        {
          "output_type": "execute_result",
          "data": {
            "text/plain": [
              "0.9438860971524288"
            ]
          },
          "metadata": {},
          "execution_count": 20
        }
      ]
    },
    {
      "cell_type": "markdown",
      "metadata": {
        "id": "ZToO2QX4KSxt"
      },
      "source": [
        "KNN with L1-norm has better accuracy score."
      ]
    },
    {
      "cell_type": "markdown",
      "metadata": {
        "id": "33kV1_0-iNrs"
      },
      "source": [
        "### Part c) The observations from different axes are weighted equally if we compute the distance over each axis and sum them to obtain a final similarity measure. Is this reasonable? "
      ]
    },
    {
      "cell_type": "markdown",
      "metadata": {
        "id": "FK1q9tCKl58w"
      },
      "source": [
        "I think that weighting the distances over different axes to obtain a final similarity measure makes sense for classification. Because the effect of each axis may be different in classes, and scaling it may lead to more accurate results. \n",
        "\n",
        "\n",
        "The greater the weight of x and y axes for our dataset, may allow us to obtain more accurate results. Because, acceleration at x and y axes determines the class of the gesture. "
      ]
    },
    {
      "cell_type": "markdown",
      "metadata": {
        "id": "_MwVVCrTqCaJ"
      },
      "source": [
        "##Task 2 – Linear models on alternative representations of the data"
      ]
    },
    {
      "cell_type": "markdown",
      "metadata": {
        "id": "_FuZWatEqEdy"
      },
      "source": [
        "### part a) Train a logistic regression model on the training data and use the model to make a prediction on then test data. Note that you will obtain probabilistic predictions . This will require you to select a threshold since 0.5 as a threshold may not work well under this imbalanced class setting. To make things easier, use the ratio of Class 3 instances in the training data as threshold. Use the learned model to predict the class for test data. Present your results in a (2-by-2) confusion matrix."
      ]
    },
    {
      "cell_type": "code",
      "metadata": {
        "colab": {
          "base_uri": "https://localhost:8080/"
        },
        "id": "0-ZTKRyN2JV5",
        "outputId": "ca73d4d7-0f1d-401d-8d75-bc5efd03903f"
      },
      "source": [
        "# Change target value according to Class 3\n",
        "class3 = (classes==3)*1\n",
        "class3_test = (classes_test==3)*1\n",
        "print(class3)"
      ],
      "execution_count": 21,
      "outputs": [
        {
          "output_type": "stream",
          "name": "stdout",
          "text": [
            "0      0\n",
            "1      0\n",
            "2      0\n",
            "3      1\n",
            "4      0\n",
            "      ..\n",
            "891    1\n",
            "892    0\n",
            "893    0\n",
            "894    0\n",
            "895    0\n",
            "Name: xt0, Length: 896, dtype: int64\n"
          ]
        }
      ]
    },
    {
      "cell_type": "code",
      "metadata": {
        "colab": {
          "base_uri": "https://localhost:8080/"
        },
        "id": "PzwfQr8M2ewP",
        "outputId": "8eb0016a-f998-47f9-d020-a7bd5958c207"
      },
      "source": [
        "# Find the ratio of Class 3 in the training data\n",
        "ratio_class3 = class3.sum()/len(y_train)\n",
        "ratio_class3"
      ],
      "execution_count": 22,
      "outputs": [
        {
          "output_type": "execute_result",
          "data": {
            "text/plain": [
              "0.11830357142857142"
            ]
          },
          "metadata": {},
          "execution_count": 22
        }
      ]
    },
    {
      "cell_type": "code",
      "metadata": {
        "colab": {
          "base_uri": "https://localhost:8080/"
        },
        "id": "-iWKiEDd2qXa",
        "outputId": "8ef8168b-c77f-400e-9076-7ab8d15ed826"
      },
      "source": [
        "# Create Logistic Regression model with no penalization.\n",
        "from sklearn.linear_model import LogisticRegression\n",
        "from sklearn.metrics import confusion_matrix\n",
        "logistic_regression = LogisticRegression(penalty='none',max_iter=1000)\n",
        "logistic_regression.fit(concat_all, class3)\n",
        "\n",
        "# Get prediction probabilities of the test data and convert them to binary predictions by using the Class3 ratio as threshold.\n",
        "y_pred_prob = logistic_regression.predict_proba(concat_test)\n",
        "y_pred_lr_class3 = (y_pred_prob[:,1]>ratio_class3)*1\n",
        "\n",
        "confusion_matrix(class3_test, y_pred_lr_class3)\n"
      ],
      "execution_count": 23,
      "outputs": [
        {
          "output_type": "execute_result",
          "data": {
            "text/plain": [
              "array([[2953,  175],\n",
              "       [ 165,  289]])"
            ]
          },
          "metadata": {},
          "execution_count": 23
        }
      ]
    },
    {
      "cell_type": "code",
      "metadata": {
        "colab": {
          "base_uri": "https://localhost:8080/"
        },
        "id": "73A-IOXz5P8M",
        "outputId": "d34571ca-3060-46fe-d7b9-2cfed3ca06a5"
      },
      "source": [
        "#Calculate accuracy score\n",
        "accuracy_score(class3_test, y_pred_lr_class3)"
      ],
      "execution_count": 24,
      "outputs": [
        {
          "output_type": "execute_result",
          "data": {
            "text/plain": [
              "0.9050809603573423"
            ]
          },
          "metadata": {},
          "execution_count": 24
        }
      ]
    },
    {
      "cell_type": "markdown",
      "metadata": {
        "id": "0Ii3J6LX5bu1"
      },
      "source": [
        "**Logistic Regresson accuracy score is 0.905**"
      ]
    },
    {
      "cell_type": "markdown",
      "metadata": {
        "id": "jaMt7que5nyH"
      },
      "source": [
        "### part b) An alternative way is to train a logistic regression model with lasso penalties."
      ]
    },
    {
      "cell_type": "code",
      "metadata": {
        "id": "fTFyo9kD6eF9"
      },
      "source": [
        " from sklearn.linear_model import LogisticRegressionCV"
      ],
      "execution_count": 25,
      "outputs": []
    },
    {
      "cell_type": "code",
      "metadata": {
        "colab": {
          "base_uri": "https://localhost:8080/"
        },
        "id": "fw6OdOBC-RO9",
        "outputId": "7183bbe1-2b54-40f5-8572-c75f1bd6573e"
      },
      "source": [
        "Cs_values=[0.0001, 0.001, 0.05, 0.01, 0.5, 0.1, 1, 5, 10, 100]\n",
        "lr_lasso_model = LogisticRegressionCV(Cs=Cs_values,penalty='l1', solver='liblinear',cv=10, random_state=0,scoring=\"neg_log_loss\",max_iter=100)\n",
        "lr_lasso_model.fit(concat_all, class3)\n",
        "lr_lasso_model.Cs_"
      ],
      "execution_count": 26,
      "outputs": [
        {
          "output_type": "execute_result",
          "data": {
            "text/plain": [
              "array([1.e-04, 1.e-03, 5.e-02, 1.e-02, 5.e-01, 1.e-01, 1.e+00, 5.e+00,\n",
              "       1.e+01, 1.e+02])"
            ]
          },
          "metadata": {},
          "execution_count": 26
        }
      ]
    },
    {
      "cell_type": "code",
      "metadata": {
        "colab": {
          "base_uri": "https://localhost:8080/"
        },
        "id": "hMLbNYt4MjMm",
        "outputId": "4f9627d0-9661-4b47-e65d-d62182d5e0ed"
      },
      "source": [
        "lr_lasso_model.scores_"
      ],
      "execution_count": 46,
      "outputs": [
        {
          "output_type": "execute_result",
          "data": {
            "text/plain": [
              "{1: array([[-0.69314718, -0.69314718, -0.17402984, -0.3697582 , -0.13494107,\n",
              "         -0.14646614, -0.15223934, -0.29023809, -0.35061402, -0.76248401],\n",
              "        [-0.69314718, -0.69314718, -0.15827935, -0.36883604, -0.10136423,\n",
              "         -0.12999414, -0.09884814, -0.21830942, -0.39825898, -1.10466215],\n",
              "        [-0.69314718, -0.69314718, -0.14550768, -0.36094704, -0.08187426,\n",
              "         -0.11452   , -0.08337697, -0.18853063, -0.27156497, -0.70614063],\n",
              "        [-0.69314718, -0.69314718, -0.15945309, -0.37170416, -0.08163378,\n",
              "         -0.12112409, -0.08412132, -0.16130919, -0.26548123, -0.71715692],\n",
              "        [-0.69314718, -0.69314718, -0.11402535, -0.36547445, -0.0329871 ,\n",
              "         -0.07159654, -0.03772586, -0.07235291, -0.13581258, -0.49904564],\n",
              "        [-0.69314718, -0.69314718, -0.15811361, -0.37078206, -0.14523454,\n",
              "         -0.13140921, -0.16965782, -0.3161063 , -0.49229863, -1.14450124],\n",
              "        [-0.69314718, -0.69314718, -0.18372315, -0.38422835, -0.11304807,\n",
              "         -0.14727437, -0.10864375, -0.16221073, -0.27441429, -0.65179234],\n",
              "        [-0.69314718, -0.69314718, -0.14959706, -0.37143762, -0.09700097,\n",
              "         -0.12042215, -0.10078507, -0.16042557, -0.27159087, -0.46859242],\n",
              "        [-0.69314718, -0.69314718, -0.15925959, -0.35954177, -0.12910521,\n",
              "         -0.13650207, -0.14721747, -0.23353044, -0.31488391, -0.8550241 ],\n",
              "        [-0.69314718, -0.69314718, -0.15482633, -0.3714018 , -0.10121375,\n",
              "         -0.12340959, -0.11702487, -0.2005429 , -0.32090962, -0.95035207]])}"
            ]
          },
          "metadata": {},
          "execution_count": 46
        }
      ]
    },
    {
      "cell_type": "code",
      "metadata": {
        "colab": {
          "base_uri": "https://localhost:8080/"
        },
        "id": "1I8AKWHUMRsC",
        "outputId": "e58191b3-729c-40ff-8ca3-cf861e79d9a3"
      },
      "source": [
        "min_error_index=0\n",
        "min_value=-lr_lasso_model.scores_[1][0].mean()\n",
        "for i in range (0,len(lr_lasso_model.scores_[1])):\n",
        "  print(-lr_lasso_model.scores_[1][i].mean())\n",
        "  if -lr_lasso_model.scores_[1][i].mean() < min_value:\n",
        "    min_error_index = i\n",
        "    min_value =(-lr_lasso_model.scores_[1][i].mean())\n",
        "\n",
        "print(\"We can find min error at Cs value: \"+str(Cs_values[int(min_error_index)]))"
      ],
      "execution_count": 47,
      "outputs": [
        {
          "output_type": "stream",
          "name": "stdout",
          "text": [
            "0.37670650593047067\n",
            "0.3964846817541839\n",
            "0.3338756548778484\n",
            "0.33482781452349947\n",
            "0.271531479330067\n",
            "0.431439776364126\n",
            "0.3411629410779674\n",
            "0.31261460853372236\n",
            "0.37213589308357864\n",
            "0.37259752917390426\n",
            "We can find min error at Cs value: 0.5\n"
          ]
        }
      ]
    },
    {
      "cell_type": "markdown",
      "metadata": {
        "id": "aU9x131tVckp"
      },
      "source": [
        "**We know that C=1/λ, so best alpha value is 0.5=1/λ  λ=2**"
      ]
    },
    {
      "cell_type": "code",
      "metadata": {
        "id": "G993DkRtV0oL"
      },
      "source": [
        "predict_proba_class3=lr_lasso_model.predict_proba(concat_test)\n",
        "predict_class3=(predict_proba_class3[:,1]>ratio_class3)*1"
      ],
      "execution_count": 29,
      "outputs": []
    },
    {
      "cell_type": "code",
      "metadata": {
        "colab": {
          "base_uri": "https://localhost:8080/"
        },
        "id": "oVFqRPgaawJA",
        "outputId": "ee41c8ca-6537-445a-d9c3-085238386e61"
      },
      "source": [
        "confusion_matrix_l1 = pd.crosstab(class3_test, predict_class3,rownames=['actual'], colnames=['predicted'])\n",
        "print(confusion_matrix_l1)"
      ],
      "execution_count": 30,
      "outputs": [
        {
          "output_type": "stream",
          "name": "stdout",
          "text": [
            "predicted     0    1\n",
            "actual              \n",
            "0          2872  256\n",
            "1            33  421\n"
          ]
        }
      ]
    },
    {
      "cell_type": "markdown",
      "metadata": {
        "id": "jZsZ0J1EP9pc"
      },
      "source": [
        "Although false negative prediction decrease, there is a slight increase in the false positive prediction rate.  As a result, there is an increase in accuracy over logistic regression."
      ]
    },
    {
      "cell_type": "code",
      "metadata": {
        "colab": {
          "base_uri": "https://localhost:8080/"
        },
        "id": "mXt3j9UUX9QJ",
        "outputId": "b6606f34-71be-4464-af92-d39019d07efe"
      },
      "source": [
        "#Calculate accuracy score\n",
        "accuracy_score(class3_test, predict_class3)"
      ],
      "execution_count": 31,
      "outputs": [
        {
          "output_type": "execute_result",
          "data": {
            "text/plain": [
              "0.9193188163037409"
            ]
          },
          "metadata": {},
          "execution_count": 31
        }
      ]
    },
    {
      "cell_type": "code",
      "metadata": {
        "colab": {
          "base_uri": "https://localhost:8080/"
        },
        "id": "TdL5Y-DKy1qp",
        "outputId": "742cd2cd-168f-4674-96bd-14af3a65bfa8"
      },
      "source": [
        "# regression coefficients\n",
        "coef_df = pd.DataFrame(lr_lasso_model.coef_.T,columns=['lr_coefficients'],index=concat_all.columns)\n",
        "nonzero_coef_df = coef_df[coef_df['lr_coefficients']!=0]\n",
        "print('Number of features: ',coef_df.shape[0])\n",
        "print('Number of features with nonzero coefficient: ',nonzero_coef_df.shape[0])"
      ],
      "execution_count": 32,
      "outputs": [
        {
          "output_type": "stream",
          "name": "stdout",
          "text": [
            "Number of features:  945\n",
            "Number of features with nonzero coefficient:  71\n"
          ]
        }
      ]
    },
    {
      "cell_type": "markdown",
      "metadata": {
        "id": "glfrA4vu0rvB"
      },
      "source": [
        "**71 of 945 features are selected when Lasso penalties applied. It gives better accuracy than Regular Logistic Regression**"
      ]
    },
    {
      "cell_type": "code",
      "metadata": {
        "colab": {
          "base_uri": "https://localhost:8080/",
          "height": 1000
        },
        "id": "qOYd4Q080-4b",
        "outputId": "6a64703e-1adb-4dac-d513-a762acf87c6a"
      },
      "source": [
        "nonzero_coef_df[nonzero_coef_df[\"lr_coefficients\"]>0]"
      ],
      "execution_count": 33,
      "outputs": [
        {
          "output_type": "execute_result",
          "data": {
            "text/html": [
              "<div>\n",
              "<style scoped>\n",
              "    .dataframe tbody tr th:only-of-type {\n",
              "        vertical-align: middle;\n",
              "    }\n",
              "\n",
              "    .dataframe tbody tr th {\n",
              "        vertical-align: top;\n",
              "    }\n",
              "\n",
              "    .dataframe thead th {\n",
              "        text-align: right;\n",
              "    }\n",
              "</style>\n",
              "<table border=\"1\" class=\"dataframe\">\n",
              "  <thead>\n",
              "    <tr style=\"text-align: right;\">\n",
              "      <th></th>\n",
              "      <th>lr_coefficients</th>\n",
              "    </tr>\n",
              "  </thead>\n",
              "  <tbody>\n",
              "    <tr>\n",
              "      <th>xt127</th>\n",
              "      <td>0.058794</td>\n",
              "    </tr>\n",
              "    <tr>\n",
              "      <th>xt128</th>\n",
              "      <td>0.007998</td>\n",
              "    </tr>\n",
              "    <tr>\n",
              "      <th>xt208</th>\n",
              "      <td>0.090252</td>\n",
              "    </tr>\n",
              "    <tr>\n",
              "      <th>xt235</th>\n",
              "      <td>0.143794</td>\n",
              "    </tr>\n",
              "    <tr>\n",
              "      <th>xt236</th>\n",
              "      <td>0.230971</td>\n",
              "    </tr>\n",
              "    <tr>\n",
              "      <th>xt237</th>\n",
              "      <td>0.376691</td>\n",
              "    </tr>\n",
              "    <tr>\n",
              "      <th>xt238</th>\n",
              "      <td>0.187992</td>\n",
              "    </tr>\n",
              "    <tr>\n",
              "      <th>xt249</th>\n",
              "      <td>0.235626</td>\n",
              "    </tr>\n",
              "    <tr>\n",
              "      <th>xt258</th>\n",
              "      <td>0.378231</td>\n",
              "    </tr>\n",
              "    <tr>\n",
              "      <th>xt259</th>\n",
              "      <td>0.168722</td>\n",
              "    </tr>\n",
              "    <tr>\n",
              "      <th>xt281</th>\n",
              "      <td>0.152390</td>\n",
              "    </tr>\n",
              "    <tr>\n",
              "      <th>xt282</th>\n",
              "      <td>0.465040</td>\n",
              "    </tr>\n",
              "    <tr>\n",
              "      <th>xt283</th>\n",
              "      <td>0.008389</td>\n",
              "    </tr>\n",
              "    <tr>\n",
              "      <th>xt286</th>\n",
              "      <td>0.079711</td>\n",
              "    </tr>\n",
              "    <tr>\n",
              "      <th>xt287</th>\n",
              "      <td>0.046772</td>\n",
              "    </tr>\n",
              "    <tr>\n",
              "      <th>xt288</th>\n",
              "      <td>0.045654</td>\n",
              "    </tr>\n",
              "    <tr>\n",
              "      <th>xt290</th>\n",
              "      <td>0.334829</td>\n",
              "    </tr>\n",
              "    <tr>\n",
              "      <th>xt293</th>\n",
              "      <td>0.035579</td>\n",
              "    </tr>\n",
              "    <tr>\n",
              "      <th>xt295</th>\n",
              "      <td>0.082489</td>\n",
              "    </tr>\n",
              "    <tr>\n",
              "      <th>xt315</th>\n",
              "      <td>0.558247</td>\n",
              "    </tr>\n",
              "    <tr>\n",
              "      <th>yt161</th>\n",
              "      <td>0.120874</td>\n",
              "    </tr>\n",
              "    <tr>\n",
              "      <th>yt165</th>\n",
              "      <td>0.300100</td>\n",
              "    </tr>\n",
              "    <tr>\n",
              "      <th>yt166</th>\n",
              "      <td>0.827252</td>\n",
              "    </tr>\n",
              "    <tr>\n",
              "      <th>yt167</th>\n",
              "      <td>0.041866</td>\n",
              "    </tr>\n",
              "    <tr>\n",
              "      <th>yt191</th>\n",
              "      <td>0.081826</td>\n",
              "    </tr>\n",
              "    <tr>\n",
              "      <th>yt192</th>\n",
              "      <td>0.438364</td>\n",
              "    </tr>\n",
              "    <tr>\n",
              "      <th>yt227</th>\n",
              "      <td>0.093558</td>\n",
              "    </tr>\n",
              "    <tr>\n",
              "      <th>yt228</th>\n",
              "      <td>0.105987</td>\n",
              "    </tr>\n",
              "    <tr>\n",
              "      <th>yt229</th>\n",
              "      <td>0.115142</td>\n",
              "    </tr>\n",
              "    <tr>\n",
              "      <th>yt230</th>\n",
              "      <td>0.075910</td>\n",
              "    </tr>\n",
              "    <tr>\n",
              "      <th>yt231</th>\n",
              "      <td>0.031589</td>\n",
              "    </tr>\n",
              "    <tr>\n",
              "      <th>zt88</th>\n",
              "      <td>0.057606</td>\n",
              "    </tr>\n",
              "    <tr>\n",
              "      <th>zt89</th>\n",
              "      <td>0.039576</td>\n",
              "    </tr>\n",
              "    <tr>\n",
              "      <th>zt98</th>\n",
              "      <td>0.033230</td>\n",
              "    </tr>\n",
              "    <tr>\n",
              "      <th>zt99</th>\n",
              "      <td>0.259066</td>\n",
              "    </tr>\n",
              "    <tr>\n",
              "      <th>zt100</th>\n",
              "      <td>0.054146</td>\n",
              "    </tr>\n",
              "    <tr>\n",
              "      <th>zt101</th>\n",
              "      <td>0.032366</td>\n",
              "    </tr>\n",
              "    <tr>\n",
              "      <th>zt315</th>\n",
              "      <td>0.113969</td>\n",
              "    </tr>\n",
              "  </tbody>\n",
              "</table>\n",
              "</div>"
            ],
            "text/plain": [
              "       lr_coefficients\n",
              "xt127         0.058794\n",
              "xt128         0.007998\n",
              "xt208         0.090252\n",
              "xt235         0.143794\n",
              "xt236         0.230971\n",
              "xt237         0.376691\n",
              "xt238         0.187992\n",
              "xt249         0.235626\n",
              "xt258         0.378231\n",
              "xt259         0.168722\n",
              "xt281         0.152390\n",
              "xt282         0.465040\n",
              "xt283         0.008389\n",
              "xt286         0.079711\n",
              "xt287         0.046772\n",
              "xt288         0.045654\n",
              "xt290         0.334829\n",
              "xt293         0.035579\n",
              "xt295         0.082489\n",
              "xt315         0.558247\n",
              "yt161         0.120874\n",
              "yt165         0.300100\n",
              "yt166         0.827252\n",
              "yt167         0.041866\n",
              "yt191         0.081826\n",
              "yt192         0.438364\n",
              "yt227         0.093558\n",
              "yt228         0.105987\n",
              "yt229         0.115142\n",
              "yt230         0.075910\n",
              "yt231         0.031589\n",
              "zt88          0.057606\n",
              "zt89          0.039576\n",
              "zt98          0.033230\n",
              "zt99          0.259066\n",
              "zt100         0.054146\n",
              "zt101         0.032366\n",
              "zt315         0.113969"
            ]
          },
          "metadata": {},
          "execution_count": 33
        }
      ]
    },
    {
      "cell_type": "markdown",
      "metadata": {
        "id": "w2rZDSBp1fAk"
      },
      "source": [
        "20 of 37 features that have a positive impact are in X-axis. \n",
        "This is actually not surprising because when we look at the class 3 gesture, it does most of its movement on the x axis. Therefore, we mostly need x-axis coordinate to define class3 gesture. \n",
        "\n",
        "But the value of y 166 (0.827252) has the most significant effect. Although the reason for this is not very remarkable, it can be an important value to distinguish it from other classes, since one of the 2 classes(class 3 and class 4) that did not change in the y-axis during that time period is class3."
      ]
    },
    {
      "cell_type": "markdown",
      "metadata": {
        "id": "-PRbZKap3aXp"
      },
      "source": [
        "### part c) An alternative way to represent the feature matrix on a new space to introduce nonlinear relations is to use distance matrix as a feature matrix. "
      ]
    },
    {
      "cell_type": "code",
      "metadata": {
        "colab": {
          "base_uri": "https://localhost:8080/"
        },
        "id": "pUp0y1yy3i08",
        "outputId": "2ade279b-bfe4-4d42-e758-7ea492a1c423"
      },
      "source": [
        "from sklearn.metrics import pairwise_distances\n",
        "\n",
        "# Create copies of original datasets\n",
        "X_train_copy = concat_all.copy()\n",
        "X_test_copy = concat_test.copy()\n",
        "\n",
        "# Create Distance Matrices\n",
        "distance_train = pd.DataFrame(pairwise_distances(X_train_copy,metric='euclidean'),columns=X_train_copy.index,index=X_train_copy.index)\n",
        "print(distance_train)\n",
        "distance_test = pd.DataFrame(pairwise_distances(X_test_copy,X_train_copy,metric='euclidean'),columns=X_train_copy.index,index=X_test_copy.index)\n",
        "print(distance_test)"
      ],
      "execution_count": 34,
      "outputs": [
        {
          "output_type": "stream",
          "name": "stdout",
          "text": [
            "           0             1          2    ...        893           894        895\n",
            "0     0.000000  5.130385e+01  46.492630  ...  43.590523  4.717981e+01  52.290139\n",
            "1    51.303846  9.536743e-07  26.150617  ...  41.242534  4.326349e+01  24.413671\n",
            "2    46.492630  2.615062e+01   0.000000  ...  47.869566  5.275303e+01  23.007826\n",
            "3    50.005572  3.684757e+01  43.114909  ...  36.476096  3.777271e+01  37.739351\n",
            "4    40.530645  3.271092e+01  34.685574  ...  45.798806  4.443520e+01  39.755263\n",
            "..         ...           ...        ...  ...        ...           ...        ...\n",
            "891  34.617316  4.440307e+01  37.879804  ...  45.263191  4.502968e+01  43.743589\n",
            "892  40.368024  5.465286e+01  49.857533  ...  42.399479  3.974913e+01  49.300711\n",
            "893  43.590523  4.124253e+01  47.869566  ...   0.000001  3.590154e+01  44.846243\n",
            "894  47.179806  4.326349e+01  52.753026  ...  35.901542  9.536743e-07  48.547607\n",
            "895  52.290139  2.441367e+01  23.007826  ...  44.846243  4.854761e+01   0.000000\n",
            "\n",
            "[896 rows x 896 columns]\n",
            "            0          1          2    ...        893        894        895\n",
            "0     51.687559  13.263419  28.321555  ...  41.011374  41.870528  28.349480\n",
            "1     34.947350  54.334337  54.694516  ...  44.871331  37.517618  55.648530\n",
            "2     42.171916  25.570757  35.860929  ...  40.439901  43.688492  35.511051\n",
            "3     41.876963  34.269027  41.884193  ...  42.866915  42.667953  41.614170\n",
            "4     49.642237  14.399477  16.490769  ...  46.638917  47.715370  22.199250\n",
            "...         ...        ...        ...  ...        ...        ...        ...\n",
            "3577  46.919133  46.765478  51.150679  ...  42.661861  33.012213  50.092056\n",
            "3578  47.290969  46.446540  52.547933  ...  43.155771  30.219649  50.473456\n",
            "3579  30.910078  56.796213  53.676871  ...  45.346724  43.464060  54.690024\n",
            "3580  49.808545  37.031432  41.234293  ...  40.802395  43.870367  33.544740\n",
            "3581  44.863628  34.147360  26.426442  ...  48.673317  43.895589  35.696775\n",
            "\n",
            "[3582 rows x 896 columns]\n"
          ]
        }
      ]
    },
    {
      "cell_type": "code",
      "metadata": {
        "colab": {
          "base_uri": "https://localhost:8080/"
        },
        "id": "D-LVysZk9yvs",
        "outputId": "c4b7c986-b336-4cff-f381-8dfc853ba62f"
      },
      "source": [
        "Cs_values=[0.0001, 0.001, 0.05, 0.01, 0.5, 0.1, 1, 5, 10, 100]\n",
        "lr_lasso_model_2 = LogisticRegressionCV(Cs=Cs_values,penalty='l1', solver='liblinear',cv=10, random_state=0,scoring=\"neg_log_loss\",max_iter=100)\n",
        "lr_lasso_model_2.fit(distance_train, class3)\n",
        "lr_lasso_model_2.Cs_"
      ],
      "execution_count": 35,
      "outputs": [
        {
          "output_type": "execute_result",
          "data": {
            "text/plain": [
              "array([1.e-04, 1.e-03, 5.e-02, 1.e-02, 5.e-01, 1.e-01, 1.e+00, 5.e+00,\n",
              "       1.e+01, 1.e+02])"
            ]
          },
          "metadata": {},
          "execution_count": 35
        }
      ]
    },
    {
      "cell_type": "code",
      "metadata": {
        "colab": {
          "base_uri": "https://localhost:8080/"
        },
        "id": "nAVzduPh-Ve3",
        "outputId": "d8926acd-87b1-4ec1-c34f-5b50f736af7f"
      },
      "source": [
        "lr_lasso_model_2.scores_"
      ],
      "execution_count": 36,
      "outputs": [
        {
          "output_type": "execute_result",
          "data": {
            "text/plain": [
              "{1: array([[-0.51339317, -0.30108322, -0.08220158, -0.12167016, -0.07135266,\n",
              "         -0.07306541, -0.07390811, -0.08258032, -0.08478172, -0.08850748],\n",
              "        [-0.50749252, -0.29111941, -0.06800698, -0.10208453, -0.03692702,\n",
              "         -0.05658264, -0.02990367, -0.01788542, -0.01634431, -0.01427646],\n",
              "        [-0.50899824, -0.29718784, -0.04285805, -0.08563071, -0.01919383,\n",
              "         -0.03074863, -0.0174522 , -0.01335712, -0.01273046, -0.0120084 ],\n",
              "        [-0.51022789, -0.29234482, -0.05385251, -0.09773337, -0.02239874,\n",
              "         -0.04002944, -0.01837934, -0.01332633, -0.01245812, -0.01158611],\n",
              "        [-0.51134519, -0.29626326, -0.03868174, -0.071238  , -0.01257026,\n",
              "         -0.02917491, -0.00946652, -0.00583175, -0.00541182, -0.00471079],\n",
              "        [-0.51186992, -0.31763746, -0.08419094, -0.14491267, -0.05998505,\n",
              "         -0.06929577, -0.04509   , -0.03678727, -0.03340208, -0.03338304],\n",
              "        [-0.50940803, -0.28379869, -0.05977311, -0.12331006, -0.02087462,\n",
              "         -0.04191105, -0.01982654, -0.02020866, -0.02480164, -0.02810174],\n",
              "        [-0.5055274 , -0.27426227, -0.03665375, -0.07772273, -0.0058681 ,\n",
              "         -0.01944318, -0.00344836, -0.00116369, -0.00115292, -0.00082201],\n",
              "        [-0.50688188, -0.29022587, -0.08312385, -0.12350225, -0.05955906,\n",
              "         -0.06999547, -0.05701386, -0.06160715, -0.06262403, -0.06490643],\n",
              "        [-0.50787396, -0.2907821 , -0.05626969, -0.11593611, -0.02805353,\n",
              "         -0.03865942, -0.02765508, -0.02852197, -0.02954267, -0.03041903]])}"
            ]
          },
          "metadata": {},
          "execution_count": 36
        }
      ]
    },
    {
      "cell_type": "code",
      "metadata": {
        "colab": {
          "base_uri": "https://localhost:8080/"
        },
        "id": "tLP8vS3b-gjW",
        "outputId": "fdadeb02-5a40-4247-fabd-0138d5a09467"
      },
      "source": [
        "min_error_index=0\n",
        "min_value=-lr_lasso_model_2.scores_[1][0].mean()\n",
        "for i in range (0,len(lr_lasso_model_2.scores_[1])):\n",
        "  print(-lr_lasso_model_2.scores_[1][i].mean())\n",
        "  if -lr_lasso_model_2.scores_[1][i].mean() < min_value:\n",
        "    min_error_index = i\n",
        "    min_value =(-lr_lasso_model_2.scores_[1][i].mean())\n",
        "\n",
        "print(\"We can find min error at Cs value: \"+str(Cs_values[int(min_error_index)]))"
      ],
      "execution_count": 44,
      "outputs": [
        {
          "output_type": "stream",
          "name": "stdout",
          "text": [
            "0.14925438224138507\n",
            "0.11406229547482893\n",
            "0.10401654887321328\n",
            "0.1072336673269015\n",
            "0.09846942401503887\n",
            "0.1336554212904706\n",
            "0.11320141454808141\n",
            "0.09260643973610695\n",
            "0.13794398510820932\n",
            "0.1153713528617581\n",
            "We can find min error at Cs value: 5\n"
          ]
        }
      ]
    },
    {
      "cell_type": "markdown",
      "metadata": {
        "id": "lB3_P-nb_Fiq"
      },
      "source": [
        "**We know that C=1/λ, so best alpha value is 5=1/λ λ=0.2**"
      ]
    },
    {
      "cell_type": "code",
      "metadata": {
        "colab": {
          "base_uri": "https://localhost:8080/"
        },
        "id": "4m3sAjex-kW_",
        "outputId": "09738f81-2214-4e7a-f2dc-924eaa16c186"
      },
      "source": [
        "predict_proba_class3_2=lr_lasso_model_2.predict_proba(distance_test)\n",
        "predict_class3_2=(predict_proba_class3_2[:,1]>ratio_class3)*1\n",
        "confusion_matrix_l1_2 = pd.crosstab(class3_test, predict_class3_2,rownames=['actual'], colnames=['predicted'])\n",
        "print(confusion_matrix_l1_2)"
      ],
      "execution_count": 38,
      "outputs": [
        {
          "output_type": "stream",
          "name": "stdout",
          "text": [
            "predicted     0    1\n",
            "actual              \n",
            "0          3099   29\n",
            "1            23  431\n"
          ]
        }
      ]
    },
    {
      "cell_type": "code",
      "metadata": {
        "colab": {
          "base_uri": "https://localhost:8080/"
        },
        "id": "pXrVvG7i_XNu",
        "outputId": "4a055abb-1551-4b2e-c17d-dae83b4b823e"
      },
      "source": [
        "#Calculate accuracy score\n",
        "accuracy_score(class3_test, predict_class3_2)"
      ],
      "execution_count": 39,
      "outputs": [
        {
          "output_type": "execute_result",
          "data": {
            "text/plain": [
              "0.9854829704075935"
            ]
          },
          "metadata": {},
          "execution_count": 39
        }
      ]
    },
    {
      "cell_type": "code",
      "metadata": {
        "colab": {
          "base_uri": "https://localhost:8080/"
        },
        "id": "3VcvFqLx_eSl",
        "outputId": "9054b2b9-e335-4090-acf2-731152976d32"
      },
      "source": [
        "# regression coefficients\n",
        "coef_df = pd.DataFrame(lr_lasso_model_2.coef_.T,columns=['lr_coefficients'],index=distance_train.columns)\n",
        "nonzero_coef_df = coef_df[coef_df['lr_coefficients']!=0]\n",
        "print('Number of features: ',coef_df.shape[0])\n",
        "print('Number of features with nonzero coefficient: ',nonzero_coef_df.shape[0])"
      ],
      "execution_count": 40,
      "outputs": [
        {
          "output_type": "stream",
          "name": "stdout",
          "text": [
            "Number of features:  896\n",
            "Number of features with nonzero coefficient:  758\n"
          ]
        }
      ]
    },
    {
      "cell_type": "code",
      "metadata": {
        "colab": {
          "base_uri": "https://localhost:8080/",
          "height": 424
        },
        "id": "d3qbMZnu_uIz",
        "outputId": "107bd7ba-2fac-4d02-be76-0ea945b4dcf2"
      },
      "source": [
        "nonzero_coef_df[nonzero_coef_df[\"lr_coefficients\"]>0]\n",
        "nonzero_coef_df.sort_values(by='lr_coefficients')"
      ],
      "execution_count": 41,
      "outputs": [
        {
          "output_type": "execute_result",
          "data": {
            "text/html": [
              "<div>\n",
              "<style scoped>\n",
              "    .dataframe tbody tr th:only-of-type {\n",
              "        vertical-align: middle;\n",
              "    }\n",
              "\n",
              "    .dataframe tbody tr th {\n",
              "        vertical-align: top;\n",
              "    }\n",
              "\n",
              "    .dataframe thead th {\n",
              "        text-align: right;\n",
              "    }\n",
              "</style>\n",
              "<table border=\"1\" class=\"dataframe\">\n",
              "  <thead>\n",
              "    <tr style=\"text-align: right;\">\n",
              "      <th></th>\n",
              "      <th>lr_coefficients</th>\n",
              "    </tr>\n",
              "  </thead>\n",
              "  <tbody>\n",
              "    <tr>\n",
              "      <th>98</th>\n",
              "      <td>-0.160294</td>\n",
              "    </tr>\n",
              "    <tr>\n",
              "      <th>731</th>\n",
              "      <td>-0.149824</td>\n",
              "    </tr>\n",
              "    <tr>\n",
              "      <th>188</th>\n",
              "      <td>-0.143802</td>\n",
              "    </tr>\n",
              "    <tr>\n",
              "      <th>3</th>\n",
              "      <td>-0.142043</td>\n",
              "    </tr>\n",
              "    <tr>\n",
              "      <th>777</th>\n",
              "      <td>-0.125459</td>\n",
              "    </tr>\n",
              "    <tr>\n",
              "      <th>...</th>\n",
              "      <td>...</td>\n",
              "    </tr>\n",
              "    <tr>\n",
              "      <th>283</th>\n",
              "      <td>0.078444</td>\n",
              "    </tr>\n",
              "    <tr>\n",
              "      <th>122</th>\n",
              "      <td>0.083251</td>\n",
              "    </tr>\n",
              "    <tr>\n",
              "      <th>123</th>\n",
              "      <td>0.088126</td>\n",
              "    </tr>\n",
              "    <tr>\n",
              "      <th>208</th>\n",
              "      <td>0.090560</td>\n",
              "    </tr>\n",
              "    <tr>\n",
              "      <th>890</th>\n",
              "      <td>0.092514</td>\n",
              "    </tr>\n",
              "  </tbody>\n",
              "</table>\n",
              "<p>758 rows × 1 columns</p>\n",
              "</div>"
            ],
            "text/plain": [
              "     lr_coefficients\n",
              "98         -0.160294\n",
              "731        -0.149824\n",
              "188        -0.143802\n",
              "3          -0.142043\n",
              "777        -0.125459\n",
              "..               ...\n",
              "283         0.078444\n",
              "122         0.083251\n",
              "123         0.088126\n",
              "208         0.090560\n",
              "890         0.092514\n",
              "\n",
              "[758 rows x 1 columns]"
            ]
          },
          "metadata": {},
          "execution_count": 41
        }
      ]
    },
    {
      "cell_type": "markdown",
      "metadata": {
        "id": "4GpW6fn8BSVj"
      },
      "source": [
        "The regression coefficients are scalers for the distances between the test sample and the corresponding training samples. As we can see in the 2 examples below, we find the probability of the 12th and 13th points are class 3 as a result of calculation in the sum of the product of the distance matrix values ​​of the coefficient value. \n",
        "\n",
        "The accuracy rate of this method is much higher than part b. \n",
        "\n",
        "A better result was obtained, probably because there was non-linear relationship."
      ]
    },
    {
      "cell_type": "code",
      "metadata": {
        "colab": {
          "base_uri": "https://localhost:8080/"
        },
        "id": "-VzidoleBkA7",
        "outputId": "63408d27-923e-45b2-9a01-6f3a876fb04b"
      },
      "source": [
        "x = (nonzero_coef_df[\"lr_coefficients\"]*distance_test.loc[12]).sum()\n",
        "print(1/(1+np.e**-x))\n",
        "x = (nonzero_coef_df[\"lr_coefficients\"]*distance_test.loc[13]).sum()\n",
        "print(1/(1+np.e**-x))"
      ],
      "execution_count": 42,
      "outputs": [
        {
          "output_type": "stream",
          "name": "stdout",
          "text": [
            "0.9740608956060962\n",
            "8.620855117067797e-09\n"
          ]
        }
      ]
    },
    {
      "cell_type": "markdown",
      "metadata": {
        "id": "Ptw3xVQxCtwe"
      },
      "source": [
        "### part d) Provide an overall comparison on the results you obtain for each part (over all tasks). You can compare test accuracy of each alternative method you developed. "
      ]
    },
    {
      "cell_type": "markdown",
      "metadata": {
        "id": "FYzs71X0C52z"
      },
      "source": [
        "We have 2 examples for general classification. These are KNN with L1-norm and k=1 and KNN with L2-norm and k=3 .\n",
        "\n",
        "\n",
        "*   KNN with L1-norm has an accuracy: 0.954215522054718\n",
        "*   KNN with L2-norm and k=3: 0.9438860971524288\n",
        "\n",
        "Using Manhattan enables us to achieve better accuracy.\n"
      ]
    },
    {
      "cell_type": "markdown",
      "metadata": {
        "id": "OF-9OyF4E61o"
      },
      "source": [
        "We have 3 examples for class 3 classification. These are Logistic Regression, Regularized Logistic Regression with Lasso Penalties and Regularized Logistic Regression with Lasso Penalties with distance features.\n",
        "\n",
        "\n",
        "*   Logistic Regression accuracy: 0.905\n",
        "*   Regularized Logistic Regression with Lasso Penalties accuracy: 0.919\n",
        "*   Regularized Logistic Regression with Lasso Penalties with distance features accuracy: 0.985\n",
        "\n",
        "Regularized Logistic Regression with Lasso Penalties with distance features have better results in a very different way. \n",
        "\n",
        "We can conclude that there are nonlinearity between the labels and the inputs because Regularized Logistic Regression with Lasso Penalties with distance features perform better than Logistic Regression and RRegularized Logistic Regression with Lasso Penalties."
      ]
    },
    {
      "cell_type": "code",
      "metadata": {
        "colab": {
          "base_uri": "https://localhost:8080/",
          "height": 1000
        },
        "id": "Fg3E9gE5LtEG",
        "outputId": "a063b978-adcd-46d7-c878-c8880168e779"
      },
      "source": [
        "%%shell\n",
        "jupyter nbconvert --to html /content/IE582_Fall21_Homework3.ipynb"
      ],
      "execution_count": 43,
      "outputs": [
        {
          "output_type": "stream",
          "name": "stdout",
          "text": [
            "[NbConvertApp] WARNING | pattern u'/content/IE582_Fall21_Homework3.ipynb' matched no files\n",
            "This application is used to convert notebook files (*.ipynb) to various other\n",
            "formats.\n",
            "\n",
            "WARNING: THE COMMANDLINE INTERFACE MAY CHANGE IN FUTURE RELEASES.\n",
            "\n",
            "Options\n",
            "-------\n",
            "\n",
            "Arguments that take values are actually convenience aliases to full\n",
            "Configurables, whose aliases are listed on the help line. For more information\n",
            "on full configurables, see '--help-all'.\n",
            "\n",
            "--execute\n",
            "    Execute the notebook prior to export.\n",
            "--allow-errors\n",
            "    Continue notebook execution even if one of the cells throws an error and include the error message in the cell output (the default behaviour is to abort conversion). This flag is only relevant if '--execute' was specified, too.\n",
            "--no-input\n",
            "    Exclude input cells and output prompts from converted document. \n",
            "    This mode is ideal for generating code-free reports.\n",
            "--stdout\n",
            "    Write notebook output to stdout instead of files.\n",
            "--stdin\n",
            "    read a single notebook file from stdin. Write the resulting notebook with default basename 'notebook.*'\n",
            "--inplace\n",
            "    Run nbconvert in place, overwriting the existing notebook (only \n",
            "    relevant when converting to notebook format)\n",
            "-y\n",
            "    Answer yes to any questions instead of prompting.\n",
            "--clear-output\n",
            "    Clear output of current file and save in place, \n",
            "    overwriting the existing notebook.\n",
            "--debug\n",
            "    set log level to logging.DEBUG (maximize logging output)\n",
            "--no-prompt\n",
            "    Exclude input and output prompts from converted document.\n",
            "--generate-config\n",
            "    generate default config file\n",
            "--nbformat=<Enum> (NotebookExporter.nbformat_version)\n",
            "    Default: 4\n",
            "    Choices: [1, 2, 3, 4]\n",
            "    The nbformat version to write. Use this to downgrade notebooks.\n",
            "--output-dir=<Unicode> (FilesWriter.build_directory)\n",
            "    Default: ''\n",
            "    Directory to write output(s) to. Defaults to output to the directory of each\n",
            "    notebook. To recover previous default behaviour (outputting to the current\n",
            "    working directory) use . as the flag value.\n",
            "--writer=<DottedObjectName> (NbConvertApp.writer_class)\n",
            "    Default: 'FilesWriter'\n",
            "    Writer class used to write the  results of the conversion\n",
            "--log-level=<Enum> (Application.log_level)\n",
            "    Default: 30\n",
            "    Choices: (0, 10, 20, 30, 40, 50, 'DEBUG', 'INFO', 'WARN', 'ERROR', 'CRITICAL')\n",
            "    Set the log level by value or name.\n",
            "--reveal-prefix=<Unicode> (SlidesExporter.reveal_url_prefix)\n",
            "    Default: u''\n",
            "    The URL prefix for reveal.js (version 3.x). This defaults to the reveal CDN,\n",
            "    but can be any url pointing to a copy  of reveal.js.\n",
            "    For speaker notes to work, this must be a relative path to a local  copy of\n",
            "    reveal.js: e.g., \"reveal.js\".\n",
            "    If a relative path is given, it must be a subdirectory of the current\n",
            "    directory (from which the server is run).\n",
            "    See the usage documentation\n",
            "    (https://nbconvert.readthedocs.io/en/latest/usage.html#reveal-js-html-\n",
            "    slideshow) for more details.\n",
            "--to=<Unicode> (NbConvertApp.export_format)\n",
            "    Default: 'html'\n",
            "    The export format to be used, either one of the built-in formats\n",
            "    ['asciidoc', 'custom', 'html', 'latex', 'markdown', 'notebook', 'pdf',\n",
            "    'python', 'rst', 'script', 'slides'] or a dotted object name that represents\n",
            "    the import path for an `Exporter` class\n",
            "--template=<Unicode> (TemplateExporter.template_file)\n",
            "    Default: u''\n",
            "    Name of the template file to use\n",
            "--output=<Unicode> (NbConvertApp.output_base)\n",
            "    Default: ''\n",
            "    overwrite base name use for output files. can only be used when converting\n",
            "    one notebook at a time.\n",
            "--post=<DottedOrNone> (NbConvertApp.postprocessor_class)\n",
            "    Default: u''\n",
            "    PostProcessor class used to write the results of the conversion\n",
            "--config=<Unicode> (JupyterApp.config_file)\n",
            "    Default: u''\n",
            "    Full path of a config file.\n",
            "\n",
            "To see all available configurables, use `--help-all`\n",
            "\n",
            "Examples\n",
            "--------\n",
            "\n",
            "    The simplest way to use nbconvert is\n",
            "    \n",
            "    > jupyter nbconvert mynotebook.ipynb\n",
            "    \n",
            "    which will convert mynotebook.ipynb to the default format (probably HTML).\n",
            "    \n",
            "    You can specify the export format with `--to`.\n",
            "    Options include ['asciidoc', 'custom', 'html', 'latex', 'markdown', 'notebook', 'pdf', 'python', 'rst', 'script', 'slides'].\n",
            "    \n",
            "    > jupyter nbconvert --to latex mynotebook.ipynb\n",
            "    \n",
            "    Both HTML and LaTeX support multiple output templates. LaTeX includes\n",
            "    'base', 'article' and 'report'.  HTML includes 'basic' and 'full'. You\n",
            "    can specify the flavor of the format used.\n",
            "    \n",
            "    > jupyter nbconvert --to html --template basic mynotebook.ipynb\n",
            "    \n",
            "    You can also pipe the output to stdout, rather than a file\n",
            "    \n",
            "    > jupyter nbconvert mynotebook.ipynb --stdout\n",
            "    \n",
            "    PDF is generated via latex\n",
            "    \n",
            "    > jupyter nbconvert mynotebook.ipynb --to pdf\n",
            "    \n",
            "    You can get (and serve) a Reveal.js-powered slideshow\n",
            "    \n",
            "    > jupyter nbconvert myslides.ipynb --to slides --post serve\n",
            "    \n",
            "    Multiple notebooks can be given at the command line in a couple of \n",
            "    different ways:\n",
            "    \n",
            "    > jupyter nbconvert notebook*.ipynb\n",
            "    > jupyter nbconvert notebook1.ipynb notebook2.ipynb\n",
            "    \n",
            "    or you can specify the notebooks list in a config file, containing::\n",
            "    \n",
            "        c.NbConvertApp.notebooks = [\"my_notebook.ipynb\"]\n",
            "    \n",
            "    > jupyter nbconvert --config mycfg.py\n",
            "\n"
          ]
        },
        {
          "output_type": "error",
          "ename": "CalledProcessError",
          "evalue": "ignored",
          "traceback": [
            "\u001b[0;31m---------------------------------------------------------------------------\u001b[0m",
            "\u001b[0;31mCalledProcessError\u001b[0m                        Traceback (most recent call last)",
            "\u001b[0;32m<ipython-input-43-c2845780ab21>\u001b[0m in \u001b[0;36m<module>\u001b[0;34m()\u001b[0m\n\u001b[0;32m----> 1\u001b[0;31m \u001b[0mget_ipython\u001b[0m\u001b[0;34m(\u001b[0m\u001b[0;34m)\u001b[0m\u001b[0;34m.\u001b[0m\u001b[0mrun_cell_magic\u001b[0m\u001b[0;34m(\u001b[0m\u001b[0;34m'shell'\u001b[0m\u001b[0;34m,\u001b[0m \u001b[0;34m''\u001b[0m\u001b[0;34m,\u001b[0m \u001b[0;34m'jupyter nbconvert --to html /content/IE582_Fall21_Homework3.ipynb'\u001b[0m\u001b[0;34m)\u001b[0m\u001b[0;34m\u001b[0m\u001b[0;34m\u001b[0m\u001b[0m\n\u001b[0m",
            "\u001b[0;32m/usr/local/lib/python3.7/dist-packages/IPython/core/interactiveshell.py\u001b[0m in \u001b[0;36mrun_cell_magic\u001b[0;34m(self, magic_name, line, cell)\u001b[0m\n\u001b[1;32m   2115\u001b[0m             \u001b[0mmagic_arg_s\u001b[0m \u001b[0;34m=\u001b[0m \u001b[0mself\u001b[0m\u001b[0;34m.\u001b[0m\u001b[0mvar_expand\u001b[0m\u001b[0;34m(\u001b[0m\u001b[0mline\u001b[0m\u001b[0;34m,\u001b[0m \u001b[0mstack_depth\u001b[0m\u001b[0;34m)\u001b[0m\u001b[0;34m\u001b[0m\u001b[0;34m\u001b[0m\u001b[0m\n\u001b[1;32m   2116\u001b[0m             \u001b[0;32mwith\u001b[0m \u001b[0mself\u001b[0m\u001b[0;34m.\u001b[0m\u001b[0mbuiltin_trap\u001b[0m\u001b[0;34m:\u001b[0m\u001b[0;34m\u001b[0m\u001b[0;34m\u001b[0m\u001b[0m\n\u001b[0;32m-> 2117\u001b[0;31m                 \u001b[0mresult\u001b[0m \u001b[0;34m=\u001b[0m \u001b[0mfn\u001b[0m\u001b[0;34m(\u001b[0m\u001b[0mmagic_arg_s\u001b[0m\u001b[0;34m,\u001b[0m \u001b[0mcell\u001b[0m\u001b[0;34m)\u001b[0m\u001b[0;34m\u001b[0m\u001b[0;34m\u001b[0m\u001b[0m\n\u001b[0m\u001b[1;32m   2118\u001b[0m             \u001b[0;32mreturn\u001b[0m \u001b[0mresult\u001b[0m\u001b[0;34m\u001b[0m\u001b[0;34m\u001b[0m\u001b[0m\n\u001b[1;32m   2119\u001b[0m \u001b[0;34m\u001b[0m\u001b[0m\n",
            "\u001b[0;32m/usr/local/lib/python3.7/dist-packages/google/colab/_system_commands.py\u001b[0m in \u001b[0;36m_shell_cell_magic\u001b[0;34m(args, cmd)\u001b[0m\n\u001b[1;32m    111\u001b[0m   \u001b[0mresult\u001b[0m \u001b[0;34m=\u001b[0m \u001b[0m_run_command\u001b[0m\u001b[0;34m(\u001b[0m\u001b[0mcmd\u001b[0m\u001b[0;34m,\u001b[0m \u001b[0mclear_streamed_output\u001b[0m\u001b[0;34m=\u001b[0m\u001b[0;32mFalse\u001b[0m\u001b[0;34m)\u001b[0m\u001b[0;34m\u001b[0m\u001b[0;34m\u001b[0m\u001b[0m\n\u001b[1;32m    112\u001b[0m   \u001b[0;32mif\u001b[0m \u001b[0;32mnot\u001b[0m \u001b[0mparsed_args\u001b[0m\u001b[0;34m.\u001b[0m\u001b[0mignore_errors\u001b[0m\u001b[0;34m:\u001b[0m\u001b[0;34m\u001b[0m\u001b[0;34m\u001b[0m\u001b[0m\n\u001b[0;32m--> 113\u001b[0;31m     \u001b[0mresult\u001b[0m\u001b[0;34m.\u001b[0m\u001b[0mcheck_returncode\u001b[0m\u001b[0;34m(\u001b[0m\u001b[0;34m)\u001b[0m\u001b[0;34m\u001b[0m\u001b[0;34m\u001b[0m\u001b[0m\n\u001b[0m\u001b[1;32m    114\u001b[0m   \u001b[0;32mreturn\u001b[0m \u001b[0mresult\u001b[0m\u001b[0;34m\u001b[0m\u001b[0;34m\u001b[0m\u001b[0m\n\u001b[1;32m    115\u001b[0m \u001b[0;34m\u001b[0m\u001b[0m\n",
            "\u001b[0;32m/usr/local/lib/python3.7/dist-packages/google/colab/_system_commands.py\u001b[0m in \u001b[0;36mcheck_returncode\u001b[0;34m(self)\u001b[0m\n\u001b[1;32m    137\u001b[0m     \u001b[0;32mif\u001b[0m \u001b[0mself\u001b[0m\u001b[0;34m.\u001b[0m\u001b[0mreturncode\u001b[0m\u001b[0;34m:\u001b[0m\u001b[0;34m\u001b[0m\u001b[0;34m\u001b[0m\u001b[0m\n\u001b[1;32m    138\u001b[0m       raise subprocess.CalledProcessError(\n\u001b[0;32m--> 139\u001b[0;31m           returncode=self.returncode, cmd=self.args, output=self.output)\n\u001b[0m\u001b[1;32m    140\u001b[0m \u001b[0;34m\u001b[0m\u001b[0m\n\u001b[1;32m    141\u001b[0m   \u001b[0;32mdef\u001b[0m \u001b[0m_repr_pretty_\u001b[0m\u001b[0;34m(\u001b[0m\u001b[0mself\u001b[0m\u001b[0;34m,\u001b[0m \u001b[0mp\u001b[0m\u001b[0;34m,\u001b[0m \u001b[0mcycle\u001b[0m\u001b[0;34m)\u001b[0m\u001b[0;34m:\u001b[0m  \u001b[0;31m# pylint:disable=unused-argument\u001b[0m\u001b[0;34m\u001b[0m\u001b[0;34m\u001b[0m\u001b[0m\n",
            "\u001b[0;31mCalledProcessError\u001b[0m: Command 'jupyter nbconvert --to html /content/IE582_Fall21_Homework3.ipynb' returned non-zero exit status 255."
          ]
        }
      ]
    }
  ]
}